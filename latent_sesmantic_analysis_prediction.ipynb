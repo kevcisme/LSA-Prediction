{
 "cells": [
  {
   "cell_type": "code",
   "execution_count": 1,
   "metadata": {
    "collapsed": true
   },
   "outputs": [],
   "source": [
    "import numpy as np\n",
    "import pandas as pd\n",
    "import seaborn as sns\n",
    "from sklearn.decomposition import TruncatedSVD\n",
    "from sklearn.datasets import fetch_20newsgroups, fetch_20newsgroups_vectorized\n",
    "from sklearn.feature_extraction.text import TfidfVectorizer, CountVectorizer\n",
    "from sklearn.model_selection import GridSearchCV\n",
    "from sklearn.neighbors import KNeighborsClassifier\n",
    "from sklearn.preprocessing import StandardScaler\n",
    "from sklearn.preprocessing import LabelEncoder\n",
    "import matplotlib.pyplot as plt\n",
    "\n",
    "%matplotlib inline"
   ]
  },
  {
   "cell_type": "markdown",
   "metadata": {},
   "source": [
    "Get news groups and emails. This will be training data. Note: this took me about 13 mins to download"
   ]
  },
  {
   "cell_type": "code",
   "execution_count": 2,
   "metadata": {
    "collapsed": false
   },
   "outputs": [],
   "source": [
    "news = fetch_20newsgroups()"
   ]
  },
  {
   "cell_type": "code",
   "execution_count": 3,
   "metadata": {
    "collapsed": false
   },
   "outputs": [
    {
     "data": {
      "text/plain": [
       "dict_keys(['data', 'filenames', 'target_names', 'target', 'DESCR', 'description'])"
      ]
     },
     "execution_count": 3,
     "metadata": {},
     "output_type": "execute_result"
    }
   ],
   "source": [
    "news.keys()"
   ]
  },
  {
   "cell_type": "code",
   "execution_count": 4,
   "metadata": {
    "collapsed": true
   },
   "outputs": [],
   "source": [
    "news_df = pd.DataFrame()\n",
    "news_df['text'] = news.data\n",
    "news_df['group_num'] = news.target\n",
    "news_df['group'] = (news_df['group_num']\n",
    "                    .apply(lambda x: news['target_names'][x]))"
   ]
  },
  {
   "cell_type": "markdown",
   "metadata": {},
   "source": [
    "Take a peak at what our dataset looks like in a table"
   ]
  },
  {
   "cell_type": "code",
   "execution_count": 5,
   "metadata": {
    "collapsed": false
   },
   "outputs": [
    {
     "data": {
      "text/html": [
       "<div>\n",
       "<table border=\"1\" class=\"dataframe\">\n",
       "  <thead>\n",
       "    <tr style=\"text-align: right;\">\n",
       "      <th></th>\n",
       "      <th>text</th>\n",
       "      <th>group_num</th>\n",
       "      <th>group</th>\n",
       "    </tr>\n",
       "  </thead>\n",
       "  <tbody>\n",
       "    <tr>\n",
       "      <th>7653</th>\n",
       "      <td>From: debbie@csd4.csd.uwm.edu (Debbie Forest)\\...</td>\n",
       "      <td>13</td>\n",
       "      <td>sci.med</td>\n",
       "    </tr>\n",
       "    <tr>\n",
       "      <th>6908</th>\n",
       "      <td>From: dchien@hougen.seas.ucla.edu (David H. Ch...</td>\n",
       "      <td>14</td>\n",
       "      <td>sci.space</td>\n",
       "    </tr>\n",
       "    <tr>\n",
       "      <th>3517</th>\n",
       "      <td>From: rene@hardy.u.washington.edu (Rene Magrit...</td>\n",
       "      <td>2</td>\n",
       "      <td>comp.os.ms-windows.misc</td>\n",
       "    </tr>\n",
       "    <tr>\n",
       "      <th>3856</th>\n",
       "      <td>Organization: University of Illinois at Chicag...</td>\n",
       "      <td>16</td>\n",
       "      <td>talk.politics.guns</td>\n",
       "    </tr>\n",
       "    <tr>\n",
       "      <th>8654</th>\n",
       "      <td>From: ronaldm@extro.ucc.su.OZ.AU (Ron Mastus)\\...</td>\n",
       "      <td>3</td>\n",
       "      <td>comp.sys.ibm.pc.hardware</td>\n",
       "    </tr>\n",
       "  </tbody>\n",
       "</table>\n",
       "</div>"
      ],
      "text/plain": [
       "                                                   text  group_num  \\\n",
       "7653  From: debbie@csd4.csd.uwm.edu (Debbie Forest)\\...         13   \n",
       "6908  From: dchien@hougen.seas.ucla.edu (David H. Ch...         14   \n",
       "3517  From: rene@hardy.u.washington.edu (Rene Magrit...          2   \n",
       "3856  Organization: University of Illinois at Chicag...         16   \n",
       "8654  From: ronaldm@extro.ucc.su.OZ.AU (Ron Mastus)\\...          3   \n",
       "\n",
       "                         group  \n",
       "7653                   sci.med  \n",
       "6908                 sci.space  \n",
       "3517   comp.os.ms-windows.misc  \n",
       "3856        talk.politics.guns  \n",
       "8654  comp.sys.ibm.pc.hardware  "
      ]
     },
     "execution_count": 5,
     "metadata": {},
     "output_type": "execute_result"
    }
   ],
   "source": [
    "news_df.sample(5)"
   ]
  },
  {
   "cell_type": "markdown",
   "metadata": {},
   "source": [
    "What are the groups of topics that we are exploring?"
   ]
  },
  {
   "cell_type": "code",
   "execution_count": 6,
   "metadata": {
    "collapsed": false
   },
   "outputs": [
    {
     "data": {
      "text/plain": [
       "array(['rec.autos', 'comp.sys.mac.hardware', 'comp.graphics', 'sci.space',\n",
       "       'talk.politics.guns', 'sci.med', 'comp.sys.ibm.pc.hardware',\n",
       "       'comp.os.ms-windows.misc', 'rec.motorcycles', 'talk.religion.misc',\n",
       "       'misc.forsale', 'alt.atheism', 'sci.electronics', 'comp.windows.x',\n",
       "       'rec.sport.hockey', 'rec.sport.baseball', 'soc.religion.christian',\n",
       "       'talk.politics.mideast', 'talk.politics.misc', 'sci.crypt'], dtype=object)"
      ]
     },
     "execution_count": 6,
     "metadata": {},
     "output_type": "execute_result"
    }
   ],
   "source": [
    "news_df['group'].unique()"
   ]
  },
  {
   "cell_type": "code",
   "execution_count": 7,
   "metadata": {
    "collapsed": false
   },
   "outputs": [
    {
     "data": {
      "text/plain": [
       "(11314, 3)"
      ]
     },
     "execution_count": 7,
     "metadata": {},
     "output_type": "execute_result"
    }
   ],
   "source": [
    "news_df.shape"
   ]
  },
  {
   "cell_type": "markdown",
   "metadata": {},
   "source": [
    "Instantiate the TFIDF so that we can create a matrix of weights"
   ]
  },
  {
   "cell_type": "code",
   "execution_count": 8,
   "metadata": {
    "collapsed": true
   },
   "outputs": [],
   "source": [
    "tfidf_vectorizer = TfidfVectorizer(min_df = 1, stop_words = 'english')\n",
    "document_term_matrix = tfidf_vectorizer.fit_transform(news_df['text'])"
   ]
  },
  {
   "cell_type": "code",
   "execution_count": 9,
   "metadata": {
    "collapsed": false
   },
   "outputs": [
    {
     "data": {
      "text/plain": [
       "<11314x129796 sparse matrix of type '<class 'numpy.float64'>'\n",
       "\twith 1300729 stored elements in Compressed Sparse Row format>"
      ]
     },
     "execution_count": 9,
     "metadata": {},
     "output_type": "execute_result"
    }
   ],
   "source": [
    "document_term_matrix"
   ]
  },
  {
   "cell_type": "markdown",
   "metadata": {},
   "source": [
    "Run singular value decomposition on that matrix"
   ]
  },
  {
   "cell_type": "code",
   "execution_count": 34,
   "metadata": {
    "collapsed": true
   },
   "outputs": [],
   "source": [
    "SVD = TruncatedSVD(10)\n",
    "latent_semantic_analysis = SVD.fit_transform(document_term_matrix)"
   ]
  },
  {
   "cell_type": "markdown",
   "metadata": {},
   "source": [
    "Now let's check our predictive power by typing in a search term"
   ]
  },
  {
   "cell_type": "code",
   "execution_count": 35,
   "metadata": {
    "collapsed": true
   },
   "outputs": [],
   "source": [
    "search_term = \"stock prices\""
   ]
  },
  {
   "cell_type": "markdown",
   "metadata": {},
   "source": [
    "Then we find a cosine similarity between that search term and our decomposed document matrix"
   ]
  },
  {
   "cell_type": "code",
   "execution_count": 36,
   "metadata": {
    "collapsed": true
   },
   "outputs": [],
   "source": [
    "search_term_vec = tfidf_vectorizer.transform([search_term])\n",
    "search_term_lsa = SVD.transform(search_term_vec)"
   ]
  },
  {
   "cell_type": "code",
   "execution_count": 37,
   "metadata": {
    "collapsed": true
   },
   "outputs": [],
   "source": [
    "cosine_similarities = latent_semantic_analysis.dot(search_term_lsa.T).ravel()"
   ]
  },
  {
   "cell_type": "markdown",
   "metadata": {},
   "source": [
    "Then we sort by the top 5 "
   ]
  },
  {
   "cell_type": "code",
   "execution_count": 38,
   "metadata": {
    "collapsed": false
   },
   "outputs": [
    {
     "data": {
      "text/plain": [
       "array([3375, 7722, 6079, 3645, 8166])"
      ]
     },
     "execution_count": 38,
     "metadata": {},
     "output_type": "execute_result"
    }
   ],
   "source": [
    "cosine_similarities.argsort()[:-6:-1]"
   ]
  },
  {
   "cell_type": "markdown",
   "metadata": {},
   "source": [
    "Now to check, we enter a number from that array, and display the first 500 characters"
   ]
  },
  {
   "cell_type": "code",
   "execution_count": 39,
   "metadata": {
    "collapsed": false
   },
   "outputs": [
    {
     "name": "stdout",
     "output_type": "stream",
     "text": [
      "From: wlsmith@valve.heart.rri.uwo.ca (Wayne Smith)\n",
      "Subject: Re: IDE vs SCSI\n",
      "Organization: The John P. Robarts Research Institute, London, Ontario\n",
      "Nntp-Posting-Host: valve.heart.rri.uwo.ca\n",
      "Lines: 141\n",
      "\n",
      "In article <C5LKEv.HpJ@feanor.xel.com> shaw@feanor.xel.com (Greg Shaw) writes:\n",
      ">: Why don't you start with the spec-sheet of the ISA bus first?\n",
      ">: You can quote SCSI specs till you're blue in the face, but if they\n",
      ">: exceed the ISA bus capability, then what's the point?\n",
      ">\n",
      ">Who said ISA was necessary\n"
     ]
    }
   ],
   "source": [
    "print(news_df.loc[3375]['text'][:500])"
   ]
  },
  {
   "cell_type": "markdown",
   "metadata": {},
   "source": [
    "Now lets see if a random search term is included in our text, to test."
   ]
  },
  {
   "cell_type": "code",
   "execution_count": 40,
   "metadata": {
    "collapsed": false
   },
   "outputs": [
    {
     "data": {
      "text/plain": [
       "False"
      ]
     },
     "execution_count": 40,
     "metadata": {},
     "output_type": "execute_result"
    }
   ],
   "source": [
    "\"Business\" in news_df.loc[3375]['text']"
   ]
  },
  {
   "cell_type": "markdown",
   "metadata": {},
   "source": [
    "Display the first 1000 characters of our document"
   ]
  },
  {
   "cell_type": "code",
   "execution_count": 41,
   "metadata": {
    "collapsed": false
   },
   "outputs": [
    {
     "name": "stdout",
     "output_type": "stream",
     "text": [
      "From: wlsmith@valve.heart.rri.uwo.ca (Wayne Smith)\n",
      "Subject: Re: IDE vs SCSI\n",
      "Organization: The John P. Robarts Research Institute, London, Ontario\n",
      "Nntp-Posting-Host: valve.heart.rri.uwo.ca\n",
      "Lines: 141\n",
      "\n",
      "In article <C5LKEv.HpJ@feanor.xel.com> shaw@feanor.xel.com (Greg Shaw) writes:\n",
      ">: Why don't you start with the spec-sheet of the ISA bus first?\n",
      ">: You can quote SCSI specs till you're blue in the face, but if they\n",
      ">: exceed the ISA bus capability, then what's the point?\n",
      ">\n",
      ">Who said ISA was necessary?  EISA or VLB are the only interfaces worth\n",
      ">investing thousands of dollars (e.g. a new pc's worth of money ) in .\n",
      "\n",
      "Then don't complain (maybe it wasn't you) that SCSI was so expensive on\n",
      "PC's because all we've had until a year or two ago was the ISA bus.\n",
      "(ie no one buys SCSI for ISA because ISA is slow)\n",
      "Are you saying that SCSI on an ISA bus is not an automatic winner when\n",
      "compared to IDE?\n",
      "\n",
      ">You didn't read to carefully.  VLB-IDE uses the same connection mechanism\n",
      ">as standard IDE.  If transfe\n"
     ]
    }
   ],
   "source": [
    "print(news_df.loc[3375]['text'][:1000])"
   ]
  },
  {
   "cell_type": "code",
   "execution_count": 42,
   "metadata": {
    "collapsed": false
   },
   "outputs": [
    {
     "data": {
      "text/html": [
       "<div>\n",
       "<table border=\"1\" class=\"dataframe\">\n",
       "  <thead>\n",
       "    <tr style=\"text-align: right;\">\n",
       "      <th></th>\n",
       "      <th>text</th>\n",
       "      <th>group_num</th>\n",
       "    </tr>\n",
       "    <tr>\n",
       "      <th>group</th>\n",
       "      <th></th>\n",
       "      <th></th>\n",
       "    </tr>\n",
       "  </thead>\n",
       "  <tbody>\n",
       "    <tr>\n",
       "      <th>alt.atheism</th>\n",
       "      <td>480</td>\n",
       "      <td>480</td>\n",
       "    </tr>\n",
       "    <tr>\n",
       "      <th>comp.graphics</th>\n",
       "      <td>584</td>\n",
       "      <td>584</td>\n",
       "    </tr>\n",
       "    <tr>\n",
       "      <th>comp.os.ms-windows.misc</th>\n",
       "      <td>591</td>\n",
       "      <td>591</td>\n",
       "    </tr>\n",
       "    <tr>\n",
       "      <th>comp.sys.ibm.pc.hardware</th>\n",
       "      <td>590</td>\n",
       "      <td>590</td>\n",
       "    </tr>\n",
       "    <tr>\n",
       "      <th>comp.sys.mac.hardware</th>\n",
       "      <td>578</td>\n",
       "      <td>578</td>\n",
       "    </tr>\n",
       "    <tr>\n",
       "      <th>comp.windows.x</th>\n",
       "      <td>593</td>\n",
       "      <td>593</td>\n",
       "    </tr>\n",
       "    <tr>\n",
       "      <th>misc.forsale</th>\n",
       "      <td>585</td>\n",
       "      <td>585</td>\n",
       "    </tr>\n",
       "    <tr>\n",
       "      <th>rec.autos</th>\n",
       "      <td>594</td>\n",
       "      <td>594</td>\n",
       "    </tr>\n",
       "    <tr>\n",
       "      <th>rec.motorcycles</th>\n",
       "      <td>598</td>\n",
       "      <td>598</td>\n",
       "    </tr>\n",
       "    <tr>\n",
       "      <th>rec.sport.baseball</th>\n",
       "      <td>597</td>\n",
       "      <td>597</td>\n",
       "    </tr>\n",
       "    <tr>\n",
       "      <th>rec.sport.hockey</th>\n",
       "      <td>600</td>\n",
       "      <td>600</td>\n",
       "    </tr>\n",
       "    <tr>\n",
       "      <th>sci.crypt</th>\n",
       "      <td>595</td>\n",
       "      <td>595</td>\n",
       "    </tr>\n",
       "    <tr>\n",
       "      <th>sci.electronics</th>\n",
       "      <td>591</td>\n",
       "      <td>591</td>\n",
       "    </tr>\n",
       "    <tr>\n",
       "      <th>sci.med</th>\n",
       "      <td>594</td>\n",
       "      <td>594</td>\n",
       "    </tr>\n",
       "    <tr>\n",
       "      <th>sci.space</th>\n",
       "      <td>593</td>\n",
       "      <td>593</td>\n",
       "    </tr>\n",
       "    <tr>\n",
       "      <th>soc.religion.christian</th>\n",
       "      <td>599</td>\n",
       "      <td>599</td>\n",
       "    </tr>\n",
       "    <tr>\n",
       "      <th>talk.politics.guns</th>\n",
       "      <td>546</td>\n",
       "      <td>546</td>\n",
       "    </tr>\n",
       "    <tr>\n",
       "      <th>talk.politics.mideast</th>\n",
       "      <td>564</td>\n",
       "      <td>564</td>\n",
       "    </tr>\n",
       "    <tr>\n",
       "      <th>talk.politics.misc</th>\n",
       "      <td>465</td>\n",
       "      <td>465</td>\n",
       "    </tr>\n",
       "    <tr>\n",
       "      <th>talk.religion.misc</th>\n",
       "      <td>377</td>\n",
       "      <td>377</td>\n",
       "    </tr>\n",
       "  </tbody>\n",
       "</table>\n",
       "</div>"
      ],
      "text/plain": [
       "                          text  group_num\n",
       "group                                    \n",
       "alt.atheism                480        480\n",
       "comp.graphics              584        584\n",
       "comp.os.ms-windows.misc    591        591\n",
       "comp.sys.ibm.pc.hardware   590        590\n",
       "comp.sys.mac.hardware      578        578\n",
       "comp.windows.x             593        593\n",
       "misc.forsale               585        585\n",
       "rec.autos                  594        594\n",
       "rec.motorcycles            598        598\n",
       "rec.sport.baseball         597        597\n",
       "rec.sport.hockey           600        600\n",
       "sci.crypt                  595        595\n",
       "sci.electronics            591        591\n",
       "sci.med                    594        594\n",
       "sci.space                  593        593\n",
       "soc.religion.christian     599        599\n",
       "talk.politics.guns         546        546\n",
       "talk.politics.mideast      564        564\n",
       "talk.politics.misc         465        465\n",
       "talk.religion.misc         377        377"
      ]
     },
     "execution_count": 42,
     "metadata": {},
     "output_type": "execute_result"
    }
   ],
   "source": [
    "news_df.groupby('group').count()"
   ]
  },
  {
   "cell_type": "markdown",
   "metadata": {},
   "source": [
    "Let's try the same idea, but use k-Nearest Neighbors as our model. We'll also GridSearch so that we can figure out best parameters"
   ]
  },
  {
   "cell_type": "code",
   "execution_count": 43,
   "metadata": {
    "collapsed": false
   },
   "outputs": [
    {
     "data": {
      "text/plain": [
       "GridSearchCV(cv=None, error_score='raise',\n",
       "       estimator=KNeighborsClassifier(algorithm='auto', leaf_size=30, metric='minkowski',\n",
       "           metric_params=None, n_jobs=1, n_neighbors=5, p=2,\n",
       "           weights='uniform'),\n",
       "       fit_params={}, iid=True, n_jobs=1,\n",
       "       param_grid={'n_neighbors': range(2, 20)}, pre_dispatch='2*n_jobs',\n",
       "       refit=True, return_train_score=True, scoring=None, verbose=0)"
      ]
     },
     "execution_count": 43,
     "metadata": {},
     "output_type": "execute_result"
    }
   ],
   "source": [
    "KNN = KNeighborsClassifier()\n",
    "gs = GridSearchCV(KNN, param_grid={'n_neighbors':range(2,20)})\n",
    "gs.fit(latent_semantic_analysis, news_df['group_num'])"
   ]
  },
  {
   "cell_type": "markdown",
   "metadata": {},
   "source": [
    "How long did that take? What's our score? "
   ]
  },
  {
   "cell_type": "code",
   "execution_count": 44,
   "metadata": {
    "collapsed": false
   },
   "outputs": [
    {
     "data": {
      "text/html": [
       "<div>\n",
       "<table border=\"1\" class=\"dataframe\">\n",
       "  <thead>\n",
       "    <tr style=\"text-align: right;\">\n",
       "      <th></th>\n",
       "      <th>0</th>\n",
       "      <th>1</th>\n",
       "      <th>2</th>\n",
       "      <th>3</th>\n",
       "      <th>4</th>\n",
       "      <th>5</th>\n",
       "      <th>6</th>\n",
       "      <th>7</th>\n",
       "      <th>8</th>\n",
       "      <th>9</th>\n",
       "      <th>10</th>\n",
       "      <th>11</th>\n",
       "      <th>12</th>\n",
       "      <th>13</th>\n",
       "      <th>14</th>\n",
       "      <th>15</th>\n",
       "      <th>16</th>\n",
       "      <th>17</th>\n",
       "    </tr>\n",
       "  </thead>\n",
       "  <tbody>\n",
       "    <tr>\n",
       "      <th>mean_fit_time</th>\n",
       "      <td>0.0101846</td>\n",
       "      <td>0.0116348</td>\n",
       "      <td>0.00875123</td>\n",
       "      <td>0.00865523</td>\n",
       "      <td>0.00880162</td>\n",
       "      <td>0.0114128</td>\n",
       "      <td>0.0105908</td>\n",
       "      <td>0.00887362</td>\n",
       "      <td>0.0103253</td>\n",
       "      <td>0.0096813</td>\n",
       "      <td>0.00869338</td>\n",
       "      <td>0.0089968</td>\n",
       "      <td>0.00966183</td>\n",
       "      <td>0.00871976</td>\n",
       "      <td>0.00879002</td>\n",
       "      <td>0.0105874</td>\n",
       "      <td>0.00878294</td>\n",
       "      <td>0.00883532</td>\n",
       "    </tr>\n",
       "    <tr>\n",
       "      <th>mean_score_time</th>\n",
       "      <td>0.18527</td>\n",
       "      <td>0.180694</td>\n",
       "      <td>0.173248</td>\n",
       "      <td>0.182894</td>\n",
       "      <td>0.19689</td>\n",
       "      <td>0.238574</td>\n",
       "      <td>0.23999</td>\n",
       "      <td>0.216526</td>\n",
       "      <td>0.240379</td>\n",
       "      <td>0.227117</td>\n",
       "      <td>0.229018</td>\n",
       "      <td>0.236688</td>\n",
       "      <td>0.241212</td>\n",
       "      <td>0.241322</td>\n",
       "      <td>0.252902</td>\n",
       "      <td>0.251421</td>\n",
       "      <td>0.255422</td>\n",
       "      <td>0.25778</td>\n",
       "    </tr>\n",
       "    <tr>\n",
       "      <th>mean_test_score</th>\n",
       "      <td>0.499735</td>\n",
       "      <td>0.517854</td>\n",
       "      <td>0.53288</td>\n",
       "      <td>0.538625</td>\n",
       "      <td>0.545519</td>\n",
       "      <td>0.552413</td>\n",
       "      <td>0.553739</td>\n",
       "      <td>0.557716</td>\n",
       "      <td>0.559572</td>\n",
       "      <td>0.556655</td>\n",
       "      <td>0.558423</td>\n",
       "      <td>0.559749</td>\n",
       "      <td>0.557628</td>\n",
       "      <td>0.555418</td>\n",
       "      <td>0.554711</td>\n",
       "      <td>0.554623</td>\n",
       "      <td>0.55312</td>\n",
       "      <td>0.552413</td>\n",
       "    </tr>\n",
       "    <tr>\n",
       "      <th>mean_train_score</th>\n",
       "      <td>0.757513</td>\n",
       "      <td>0.727726</td>\n",
       "      <td>0.707443</td>\n",
       "      <td>0.691578</td>\n",
       "      <td>0.676418</td>\n",
       "      <td>0.664883</td>\n",
       "      <td>0.655118</td>\n",
       "      <td>0.647781</td>\n",
       "      <td>0.640976</td>\n",
       "      <td>0.634126</td>\n",
       "      <td>0.632313</td>\n",
       "      <td>0.627585</td>\n",
       "      <td>0.623741</td>\n",
       "      <td>0.62131</td>\n",
       "      <td>0.61941</td>\n",
       "      <td>0.615035</td>\n",
       "      <td>0.612117</td>\n",
       "      <td>0.613001</td>\n",
       "    </tr>\n",
       "    <tr>\n",
       "      <th>param_n_neighbors</th>\n",
       "      <td>2</td>\n",
       "      <td>3</td>\n",
       "      <td>4</td>\n",
       "      <td>5</td>\n",
       "      <td>6</td>\n",
       "      <td>7</td>\n",
       "      <td>8</td>\n",
       "      <td>9</td>\n",
       "      <td>10</td>\n",
       "      <td>11</td>\n",
       "      <td>12</td>\n",
       "      <td>13</td>\n",
       "      <td>14</td>\n",
       "      <td>15</td>\n",
       "      <td>16</td>\n",
       "      <td>17</td>\n",
       "      <td>18</td>\n",
       "      <td>19</td>\n",
       "    </tr>\n",
       "    <tr>\n",
       "      <th>params</th>\n",
       "      <td>{'n_neighbors': 2}</td>\n",
       "      <td>{'n_neighbors': 3}</td>\n",
       "      <td>{'n_neighbors': 4}</td>\n",
       "      <td>{'n_neighbors': 5}</td>\n",
       "      <td>{'n_neighbors': 6}</td>\n",
       "      <td>{'n_neighbors': 7}</td>\n",
       "      <td>{'n_neighbors': 8}</td>\n",
       "      <td>{'n_neighbors': 9}</td>\n",
       "      <td>{'n_neighbors': 10}</td>\n",
       "      <td>{'n_neighbors': 11}</td>\n",
       "      <td>{'n_neighbors': 12}</td>\n",
       "      <td>{'n_neighbors': 13}</td>\n",
       "      <td>{'n_neighbors': 14}</td>\n",
       "      <td>{'n_neighbors': 15}</td>\n",
       "      <td>{'n_neighbors': 16}</td>\n",
       "      <td>{'n_neighbors': 17}</td>\n",
       "      <td>{'n_neighbors': 18}</td>\n",
       "      <td>{'n_neighbors': 19}</td>\n",
       "    </tr>\n",
       "    <tr>\n",
       "      <th>rank_test_score</th>\n",
       "      <td>18</td>\n",
       "      <td>17</td>\n",
       "      <td>16</td>\n",
       "      <td>15</td>\n",
       "      <td>14</td>\n",
       "      <td>12</td>\n",
       "      <td>10</td>\n",
       "      <td>4</td>\n",
       "      <td>2</td>\n",
       "      <td>6</td>\n",
       "      <td>3</td>\n",
       "      <td>1</td>\n",
       "      <td>5</td>\n",
       "      <td>7</td>\n",
       "      <td>8</td>\n",
       "      <td>9</td>\n",
       "      <td>11</td>\n",
       "      <td>12</td>\n",
       "    </tr>\n",
       "    <tr>\n",
       "      <th>split0_test_score</th>\n",
       "      <td>0.498543</td>\n",
       "      <td>0.511258</td>\n",
       "      <td>0.525563</td>\n",
       "      <td>0.532715</td>\n",
       "      <td>0.543576</td>\n",
       "      <td>0.550464</td>\n",
       "      <td>0.554172</td>\n",
       "      <td>0.553907</td>\n",
       "      <td>0.557616</td>\n",
       "      <td>0.550464</td>\n",
       "      <td>0.553113</td>\n",
       "      <td>0.553113</td>\n",
       "      <td>0.553113</td>\n",
       "      <td>0.550993</td>\n",
       "      <td>0.549934</td>\n",
       "      <td>0.549404</td>\n",
       "      <td>0.545695</td>\n",
       "      <td>0.543576</td>\n",
       "    </tr>\n",
       "    <tr>\n",
       "      <th>split0_train_score</th>\n",
       "      <td>0.758323</td>\n",
       "      <td>0.733917</td>\n",
       "      <td>0.708847</td>\n",
       "      <td>0.693195</td>\n",
       "      <td>0.680594</td>\n",
       "      <td>0.666003</td>\n",
       "      <td>0.660167</td>\n",
       "      <td>0.64929</td>\n",
       "      <td>0.642393</td>\n",
       "      <td>0.636822</td>\n",
       "      <td>0.63271</td>\n",
       "      <td>0.628996</td>\n",
       "      <td>0.628863</td>\n",
       "      <td>0.623955</td>\n",
       "      <td>0.622762</td>\n",
       "      <td>0.618384</td>\n",
       "      <td>0.612813</td>\n",
       "      <td>0.613211</td>\n",
       "    </tr>\n",
       "    <tr>\n",
       "      <th>split1_test_score</th>\n",
       "      <td>0.508614</td>\n",
       "      <td>0.526372</td>\n",
       "      <td>0.538033</td>\n",
       "      <td>0.546515</td>\n",
       "      <td>0.553936</td>\n",
       "      <td>0.559237</td>\n",
       "      <td>0.560827</td>\n",
       "      <td>0.563212</td>\n",
       "      <td>0.566393</td>\n",
       "      <td>0.565598</td>\n",
       "      <td>0.567188</td>\n",
       "      <td>0.566923</td>\n",
       "      <td>0.567983</td>\n",
       "      <td>0.567188</td>\n",
       "      <td>0.562417</td>\n",
       "      <td>0.562417</td>\n",
       "      <td>0.561887</td>\n",
       "      <td>0.562682</td>\n",
       "    </tr>\n",
       "    <tr>\n",
       "      <th>split1_train_score</th>\n",
       "      <td>0.757194</td>\n",
       "      <td>0.719003</td>\n",
       "      <td>0.707068</td>\n",
       "      <td>0.691951</td>\n",
       "      <td>0.670335</td>\n",
       "      <td>0.660257</td>\n",
       "      <td>0.650709</td>\n",
       "      <td>0.642886</td>\n",
       "      <td>0.639836</td>\n",
       "      <td>0.632144</td>\n",
       "      <td>0.627768</td>\n",
       "      <td>0.624188</td>\n",
       "      <td>0.619944</td>\n",
       "      <td>0.619281</td>\n",
       "      <td>0.616629</td>\n",
       "      <td>0.612783</td>\n",
       "      <td>0.610264</td>\n",
       "      <td>0.611457</td>\n",
       "    </tr>\n",
       "    <tr>\n",
       "      <th>split2_test_score</th>\n",
       "      <td>0.492034</td>\n",
       "      <td>0.515932</td>\n",
       "      <td>0.53505</td>\n",
       "      <td>0.536644</td>\n",
       "      <td>0.539033</td>\n",
       "      <td>0.547531</td>\n",
       "      <td>0.546203</td>\n",
       "      <td>0.556028</td>\n",
       "      <td>0.5547</td>\n",
       "      <td>0.553903</td>\n",
       "      <td>0.554965</td>\n",
       "      <td>0.559214</td>\n",
       "      <td>0.551779</td>\n",
       "      <td>0.548062</td>\n",
       "      <td>0.551779</td>\n",
       "      <td>0.552045</td>\n",
       "      <td>0.551779</td>\n",
       "      <td>0.550982</td>\n",
       "    </tr>\n",
       "    <tr>\n",
       "      <th>split2_train_score</th>\n",
       "      <td>0.757022</td>\n",
       "      <td>0.73026</td>\n",
       "      <td>0.706412</td>\n",
       "      <td>0.689587</td>\n",
       "      <td>0.678325</td>\n",
       "      <td>0.668389</td>\n",
       "      <td>0.654478</td>\n",
       "      <td>0.651166</td>\n",
       "      <td>0.6407</td>\n",
       "      <td>0.633413</td>\n",
       "      <td>0.63646</td>\n",
       "      <td>0.629571</td>\n",
       "      <td>0.622417</td>\n",
       "      <td>0.620694</td>\n",
       "      <td>0.618839</td>\n",
       "      <td>0.613937</td>\n",
       "      <td>0.613275</td>\n",
       "      <td>0.614335</td>\n",
       "    </tr>\n",
       "    <tr>\n",
       "      <th>std_fit_time</th>\n",
       "      <td>0.00165411</td>\n",
       "      <td>0.00273056</td>\n",
       "      <td>8.26861e-05</td>\n",
       "      <td>4.30574e-05</td>\n",
       "      <td>0.000136162</td>\n",
       "      <td>0.000328154</td>\n",
       "      <td>0.0023125</td>\n",
       "      <td>5.07618e-05</td>\n",
       "      <td>0.00143092</td>\n",
       "      <td>0.00120554</td>\n",
       "      <td>2.96294e-05</td>\n",
       "      <td>0.000457006</td>\n",
       "      <td>0.0013479</td>\n",
       "      <td>3.77176e-05</td>\n",
       "      <td>8.85097e-05</td>\n",
       "      <td>0.00272278</td>\n",
       "      <td>0.000100832</td>\n",
       "      <td>0.00011943</td>\n",
       "    </tr>\n",
       "    <tr>\n",
       "      <th>std_score_time</th>\n",
       "      <td>0.0237888</td>\n",
       "      <td>0.0205047</td>\n",
       "      <td>0.00122841</td>\n",
       "      <td>0.00361077</td>\n",
       "      <td>0.00447511</td>\n",
       "      <td>0.0270128</td>\n",
       "      <td>0.024782</td>\n",
       "      <td>0.00241334</td>\n",
       "      <td>0.0119043</td>\n",
       "      <td>0.00550437</td>\n",
       "      <td>0.00169005</td>\n",
       "      <td>0.00593682</td>\n",
       "      <td>0.00395779</td>\n",
       "      <td>0.00637435</td>\n",
       "      <td>0.00565232</td>\n",
       "      <td>0.00380919</td>\n",
       "      <td>0.00173135</td>\n",
       "      <td>0.00217121</td>\n",
       "    </tr>\n",
       "    <tr>\n",
       "      <th>std_test_score</th>\n",
       "      <td>0.00681939</td>\n",
       "      <td>0.0063197</td>\n",
       "      <td>0.00531868</td>\n",
       "      <td>0.00580674</td>\n",
       "      <td>0.00623581</td>\n",
       "      <td>0.00497299</td>\n",
       "      <td>0.00597667</td>\n",
       "      <td>0.00398287</td>\n",
       "      <td>0.00496914</td>\n",
       "      <td>0.00647916</td>\n",
       "      <td>0.00624562</td>\n",
       "      <td>0.00565266</td>\n",
       "      <td>0.00734494</td>\n",
       "      <td>0.00841087</td>\n",
       "      <td>0.00550271</td>\n",
       "      <td>0.00561781</td>\n",
       "      <td>0.00668008</td>\n",
       "      <td>0.00786792</td>\n",
       "    </tr>\n",
       "    <tr>\n",
       "      <th>std_train_score</th>\n",
       "      <td>0.000577301</td>\n",
       "      <td>0.00634671</td>\n",
       "      <td>0.00102877</td>\n",
       "      <td>0.0014967</td>\n",
       "      <td>0.00439985</td>\n",
       "      <td>0.00341295</td>\n",
       "      <td>0.00388753</td>\n",
       "      <td>0.00354499</td>\n",
       "      <td>0.00106217</td>\n",
       "      <td>0.00197514</td>\n",
       "      <td>0.00355951</td>\n",
       "      <td>0.0024135</td>\n",
       "      <td>0.00375972</td>\n",
       "      <td>0.00195732</td>\n",
       "      <td>0.00253591</td>\n",
       "      <td>0.00241471</td>\n",
       "      <td>0.00132414</td>\n",
       "      <td>0.00118411</td>\n",
       "    </tr>\n",
       "  </tbody>\n",
       "</table>\n",
       "</div>"
      ],
      "text/plain": [
       "                                    0                   1   \\\n",
       "mean_fit_time                0.0101846           0.0116348   \n",
       "mean_score_time                0.18527            0.180694   \n",
       "mean_test_score               0.499735            0.517854   \n",
       "mean_train_score              0.757513            0.727726   \n",
       "param_n_neighbors                    2                   3   \n",
       "params              {'n_neighbors': 2}  {'n_neighbors': 3}   \n",
       "rank_test_score                     18                  17   \n",
       "split0_test_score             0.498543            0.511258   \n",
       "split0_train_score            0.758323            0.733917   \n",
       "split1_test_score             0.508614            0.526372   \n",
       "split1_train_score            0.757194            0.719003   \n",
       "split2_test_score             0.492034            0.515932   \n",
       "split2_train_score            0.757022             0.73026   \n",
       "std_fit_time                0.00165411          0.00273056   \n",
       "std_score_time               0.0237888           0.0205047   \n",
       "std_test_score              0.00681939           0.0063197   \n",
       "std_train_score            0.000577301          0.00634671   \n",
       "\n",
       "                                    2                   3   \\\n",
       "mean_fit_time               0.00875123          0.00865523   \n",
       "mean_score_time               0.173248            0.182894   \n",
       "mean_test_score                0.53288            0.538625   \n",
       "mean_train_score              0.707443            0.691578   \n",
       "param_n_neighbors                    4                   5   \n",
       "params              {'n_neighbors': 4}  {'n_neighbors': 5}   \n",
       "rank_test_score                     16                  15   \n",
       "split0_test_score             0.525563            0.532715   \n",
       "split0_train_score            0.708847            0.693195   \n",
       "split1_test_score             0.538033            0.546515   \n",
       "split1_train_score            0.707068            0.691951   \n",
       "split2_test_score              0.53505            0.536644   \n",
       "split2_train_score            0.706412            0.689587   \n",
       "std_fit_time               8.26861e-05         4.30574e-05   \n",
       "std_score_time              0.00122841          0.00361077   \n",
       "std_test_score              0.00531868          0.00580674   \n",
       "std_train_score             0.00102877           0.0014967   \n",
       "\n",
       "                                    4                   5   \\\n",
       "mean_fit_time               0.00880162           0.0114128   \n",
       "mean_score_time                0.19689            0.238574   \n",
       "mean_test_score               0.545519            0.552413   \n",
       "mean_train_score              0.676418            0.664883   \n",
       "param_n_neighbors                    6                   7   \n",
       "params              {'n_neighbors': 6}  {'n_neighbors': 7}   \n",
       "rank_test_score                     14                  12   \n",
       "split0_test_score             0.543576            0.550464   \n",
       "split0_train_score            0.680594            0.666003   \n",
       "split1_test_score             0.553936            0.559237   \n",
       "split1_train_score            0.670335            0.660257   \n",
       "split2_test_score             0.539033            0.547531   \n",
       "split2_train_score            0.678325            0.668389   \n",
       "std_fit_time               0.000136162         0.000328154   \n",
       "std_score_time              0.00447511           0.0270128   \n",
       "std_test_score              0.00623581          0.00497299   \n",
       "std_train_score             0.00439985          0.00341295   \n",
       "\n",
       "                                    6                   7   \\\n",
       "mean_fit_time                0.0105908          0.00887362   \n",
       "mean_score_time                0.23999            0.216526   \n",
       "mean_test_score               0.553739            0.557716   \n",
       "mean_train_score              0.655118            0.647781   \n",
       "param_n_neighbors                    8                   9   \n",
       "params              {'n_neighbors': 8}  {'n_neighbors': 9}   \n",
       "rank_test_score                     10                   4   \n",
       "split0_test_score             0.554172            0.553907   \n",
       "split0_train_score            0.660167             0.64929   \n",
       "split1_test_score             0.560827            0.563212   \n",
       "split1_train_score            0.650709            0.642886   \n",
       "split2_test_score             0.546203            0.556028   \n",
       "split2_train_score            0.654478            0.651166   \n",
       "std_fit_time                 0.0023125         5.07618e-05   \n",
       "std_score_time                0.024782          0.00241334   \n",
       "std_test_score              0.00597667          0.00398287   \n",
       "std_train_score             0.00388753          0.00354499   \n",
       "\n",
       "                                     8                    9   \\\n",
       "mean_fit_time                 0.0103253            0.0096813   \n",
       "mean_score_time                0.240379             0.227117   \n",
       "mean_test_score                0.559572             0.556655   \n",
       "mean_train_score               0.640976             0.634126   \n",
       "param_n_neighbors                    10                   11   \n",
       "params              {'n_neighbors': 10}  {'n_neighbors': 11}   \n",
       "rank_test_score                       2                    6   \n",
       "split0_test_score              0.557616             0.550464   \n",
       "split0_train_score             0.642393             0.636822   \n",
       "split1_test_score              0.566393             0.565598   \n",
       "split1_train_score             0.639836             0.632144   \n",
       "split2_test_score                0.5547             0.553903   \n",
       "split2_train_score               0.6407             0.633413   \n",
       "std_fit_time                 0.00143092           0.00120554   \n",
       "std_score_time                0.0119043           0.00550437   \n",
       "std_test_score               0.00496914           0.00647916   \n",
       "std_train_score              0.00106217           0.00197514   \n",
       "\n",
       "                                     10                   11  \\\n",
       "mean_fit_time                0.00869338            0.0089968   \n",
       "mean_score_time                0.229018             0.236688   \n",
       "mean_test_score                0.558423             0.559749   \n",
       "mean_train_score               0.632313             0.627585   \n",
       "param_n_neighbors                    12                   13   \n",
       "params              {'n_neighbors': 12}  {'n_neighbors': 13}   \n",
       "rank_test_score                       3                    1   \n",
       "split0_test_score              0.553113             0.553113   \n",
       "split0_train_score              0.63271             0.628996   \n",
       "split1_test_score              0.567188             0.566923   \n",
       "split1_train_score             0.627768             0.624188   \n",
       "split2_test_score              0.554965             0.559214   \n",
       "split2_train_score              0.63646             0.629571   \n",
       "std_fit_time                2.96294e-05          0.000457006   \n",
       "std_score_time               0.00169005           0.00593682   \n",
       "std_test_score               0.00624562           0.00565266   \n",
       "std_train_score              0.00355951            0.0024135   \n",
       "\n",
       "                                     12                   13  \\\n",
       "mean_fit_time                0.00966183           0.00871976   \n",
       "mean_score_time                0.241212             0.241322   \n",
       "mean_test_score                0.557628             0.555418   \n",
       "mean_train_score               0.623741              0.62131   \n",
       "param_n_neighbors                    14                   15   \n",
       "params              {'n_neighbors': 14}  {'n_neighbors': 15}   \n",
       "rank_test_score                       5                    7   \n",
       "split0_test_score              0.553113             0.550993   \n",
       "split0_train_score             0.628863             0.623955   \n",
       "split1_test_score              0.567983             0.567188   \n",
       "split1_train_score             0.619944             0.619281   \n",
       "split2_test_score              0.551779             0.548062   \n",
       "split2_train_score             0.622417             0.620694   \n",
       "std_fit_time                  0.0013479          3.77176e-05   \n",
       "std_score_time               0.00395779           0.00637435   \n",
       "std_test_score               0.00734494           0.00841087   \n",
       "std_train_score              0.00375972           0.00195732   \n",
       "\n",
       "                                     14                   15  \\\n",
       "mean_fit_time                0.00879002            0.0105874   \n",
       "mean_score_time                0.252902             0.251421   \n",
       "mean_test_score                0.554711             0.554623   \n",
       "mean_train_score                0.61941             0.615035   \n",
       "param_n_neighbors                    16                   17   \n",
       "params              {'n_neighbors': 16}  {'n_neighbors': 17}   \n",
       "rank_test_score                       8                    9   \n",
       "split0_test_score              0.549934             0.549404   \n",
       "split0_train_score             0.622762             0.618384   \n",
       "split1_test_score              0.562417             0.562417   \n",
       "split1_train_score             0.616629             0.612783   \n",
       "split2_test_score              0.551779             0.552045   \n",
       "split2_train_score             0.618839             0.613937   \n",
       "std_fit_time                8.85097e-05           0.00272278   \n",
       "std_score_time               0.00565232           0.00380919   \n",
       "std_test_score               0.00550271           0.00561781   \n",
       "std_train_score              0.00253591           0.00241471   \n",
       "\n",
       "                                     16                   17  \n",
       "mean_fit_time                0.00878294           0.00883532  \n",
       "mean_score_time                0.255422              0.25778  \n",
       "mean_test_score                 0.55312             0.552413  \n",
       "mean_train_score               0.612117             0.613001  \n",
       "param_n_neighbors                    18                   19  \n",
       "params              {'n_neighbors': 18}  {'n_neighbors': 19}  \n",
       "rank_test_score                      11                   12  \n",
       "split0_test_score              0.545695             0.543576  \n",
       "split0_train_score             0.612813             0.613211  \n",
       "split1_test_score              0.561887             0.562682  \n",
       "split1_train_score             0.610264             0.611457  \n",
       "split2_test_score              0.551779             0.550982  \n",
       "split2_train_score             0.613275             0.614335  \n",
       "std_fit_time                0.000100832           0.00011943  \n",
       "std_score_time               0.00173135           0.00217121  \n",
       "std_test_score               0.00668008           0.00786792  \n",
       "std_train_score              0.00132414           0.00118411  "
      ]
     },
     "execution_count": 44,
     "metadata": {},
     "output_type": "execute_result"
    }
   ],
   "source": [
    "gs_res_df = pd.DataFrame(gs.cv_results_)\n",
    "gs_res_df.T"
   ]
  },
  {
   "cell_type": "code",
   "execution_count": 46,
   "metadata": {
    "collapsed": false
   },
   "outputs": [
    {
     "data": {
      "text/plain": [
       "[<matplotlib.lines.Line2D at 0x11cdbe208>]"
      ]
     },
     "execution_count": 46,
     "metadata": {},
     "output_type": "execute_result"
    },
    {
     "data": {
      "image/png": "[encoded data removed]",
      "text/plain": [
       "<matplotlib.figure.Figure at 0x11cddacc0>"
      ]
     },
     "metadata": {},
     "output_type": "display_data"
    }
   ],
   "source": [
    "plt.plot(gs_res_df['param_n_neighbors'], gs_res_df['mean_test_score'])"
   ]
  },
  {
   "cell_type": "code",
   "execution_count": 21,
   "metadata": {
    "collapsed": false
   },
   "outputs": [
    {
     "data": {
      "text/plain": [
       "KNeighborsClassifier(algorithm='auto', leaf_size=30, metric='minkowski',\n",
       "           metric_params=None, n_jobs=1, n_neighbors=9, p=2,\n",
       "           weights='uniform')"
      ]
     },
     "execution_count": 21,
     "metadata": {},
     "output_type": "execute_result"
    }
   ],
   "source": [
    "gs.best_estimator_"
   ]
  },
  {
   "cell_type": "code",
   "execution_count": 47,
   "metadata": {
    "collapsed": false
   },
   "outputs": [
    {
     "data": {
      "text/plain": [
       "array([2])"
      ]
     },
     "execution_count": 47,
     "metadata": {},
     "output_type": "execute_result"
    }
   ],
   "source": [
    "gs.predict(search_term_lsa)"
   ]
  },
  {
   "cell_type": "code",
   "execution_count": 48,
   "metadata": {
    "collapsed": false
   },
   "outputs": [
    {
     "data": {
      "text/plain": [
       "dict_keys(['data', 'filenames', 'target_names', 'target', 'DESCR', 'description'])"
      ]
     },
     "execution_count": 48,
     "metadata": {},
     "output_type": "execute_result"
    }
   ],
   "source": [
    "news.keys()"
   ]
  },
  {
   "cell_type": "code",
   "execution_count": 49,
   "metadata": {
    "collapsed": false
   },
   "outputs": [
    {
     "data": {
      "text/plain": [
       "['alt.atheism',\n",
       " 'comp.graphics',\n",
       " 'comp.os.ms-windows.misc',\n",
       " 'comp.sys.ibm.pc.hardware',\n",
       " 'comp.sys.mac.hardware',\n",
       " 'comp.windows.x',\n",
       " 'misc.forsale',\n",
       " 'rec.autos',\n",
       " 'rec.motorcycles',\n",
       " 'rec.sport.baseball',\n",
       " 'rec.sport.hockey',\n",
       " 'sci.crypt',\n",
       " 'sci.electronics',\n",
       " 'sci.med',\n",
       " 'sci.space',\n",
       " 'soc.religion.christian',\n",
       " 'talk.politics.guns',\n",
       " 'talk.politics.mideast',\n",
       " 'talk.politics.misc',\n",
       " 'talk.religion.misc']"
      ]
     },
     "execution_count": 49,
     "metadata": {},
     "output_type": "execute_result"
    }
   ],
   "source": [
    "news['target_names']"
   ]
  },
  {
   "cell_type": "markdown",
   "metadata": {},
   "source": [
    "Let's try SVD with a larger n_components"
   ]
  },
  {
   "cell_type": "code",
   "execution_count": 50,
   "metadata": {
    "collapsed": true
   },
   "outputs": [],
   "source": [
    "SVD = TruncatedSVD(200)\n",
    "latent_semantic_analysis = SVD.fit_transform(document_term_matrix)"
   ]
  },
  {
   "cell_type": "code",
   "execution_count": 51,
   "metadata": {
    "collapsed": false
   },
   "outputs": [
    {
     "data": {
      "text/plain": [
       "<Container object of 200 artists>"
      ]
     },
     "execution_count": 51,
     "metadata": {},
     "output_type": "execute_result"
    },
    {
     "data": {
      "image/png": "[encoded data removed]",
      "text/plain": [
       "<matplotlib.figure.Figure at 0x11cdc2c50>"
      ]
     },
     "metadata": {},
     "output_type": "display_data"
    }
   ],
   "source": [
    "evr = SVD.explained_variance_ratio_\n",
    "x = list(range(len(evr)))\n",
    "plt.plot(x, np.cumsum(evr))\n",
    "plt.bar(x, evr)"
   ]
  },
  {
   "cell_type": "markdown",
   "metadata": {},
   "source": [
    "Pickle our news dataset"
   ]
  },
  {
   "cell_type": "code",
   "execution_count": 52,
   "metadata": {
    "collapsed": true
   },
   "outputs": [],
   "source": [
    "news_df.to_pickle('news.p')"
   ]
  },
  {
   "cell_type": "code",
   "execution_count": 53,
   "metadata": {
    "collapsed": false
   },
   "outputs": [
    {
     "data": {
      "text/plain": [
       "scipy.sparse.csr.csr_matrix"
      ]
     },
     "execution_count": 53,
     "metadata": {},
     "output_type": "execute_result"
    }
   ],
   "source": [
    "type(document_term_matrix)"
   ]
  },
  {
   "cell_type": "code",
   "execution_count": 54,
   "metadata": {
    "collapsed": true
   },
   "outputs": [],
   "source": [
    "import scipy.sparse as sparse\n",
    "import scipy.io\n",
    "import numpy as np\n",
    "\n",
    "def save_sparse_matrix(filename, x):\n",
    "    x_coo = x.tocoo()\n",
    "    row = x_coo.row\n",
    "    col = x_coo.col\n",
    "    data = x_coo.data\n",
    "    shape = x_coo.shape\n",
    "    np.savez(filename, row=row, col=col, data=data, shape=shape)"
   ]
  },
  {
   "cell_type": "code",
   "execution_count": 55,
   "metadata": {
    "collapsed": true
   },
   "outputs": [],
   "source": [
    "save_sparse_matrix('dtm', document_term_matrix)"
   ]
  },
  {
   "cell_type": "code",
   "execution_count": 56,
   "metadata": {
    "collapsed": true
   },
   "outputs": [],
   "source": [
    "save_sparse_matrix('stock prices', search_term_vec)"
   ]
  },
  {
   "cell_type": "markdown",
   "metadata": {},
   "source": [
    "Save our tfidif as a joblib"
   ]
  },
  {
   "cell_type": "code",
   "execution_count": 57,
   "metadata": {
    "collapsed": true
   },
   "outputs": [],
   "source": [
    "from sklearn.externals import joblib"
   ]
  },
  {
   "cell_type": "code",
   "execution_count": 58,
   "metadata": {
    "collapsed": false
   },
   "outputs": [
    {
     "data": {
      "text/plain": [
       "['tfidf_vectorizer']"
      ]
     },
     "execution_count": 58,
     "metadata": {},
     "output_type": "execute_result"
    }
   ],
   "source": [
    "joblib.dump(tfidf_vectorizer, 'tfidf_vectorizer')"
   ]
  },
  {
   "cell_type": "code",
   "execution_count": null,
   "metadata": {
    "collapsed": true
   },
   "outputs": [],
   "source": []
  }
 ],
 "metadata": {
  "kernelspec": {
   "display_name": "Python 3",
   "language": "python",
   "name": "python3"
  },
  "language_info": {
   "codemirror_mode": {
    "name": "ipython",
    "version": 3
   },
   "file_extension": ".py",
   "mimetype": "text/x-python",
   "name": "python",
   "nbconvert_exporter": "python",
   "pygments_lexer": "ipython3",
   "version": "3.6.0"
  }
 },
 "nbformat": 4,
 "nbformat_minor": 2
}
