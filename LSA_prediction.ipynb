{
 "cells": [
  {
   "cell_type": "code",
   "execution_count": 2,
   "metadata": {
    "collapsed": true
   },
   "outputs": [],
   "source": [
    "import numpy as np\n",
    "import pandas as pd\n",
    "import seaborn as sns\n",
    "from sklearn.decomposition import TruncatedSVD\n",
    "from sklearn.datasets import fetch_20newsgroups, fetch_20newsgroups_vectorized\n",
    "from sklearn.feature_extraction.text import TfidfVectorizer, CountVectorizer\n",
    "from sklearn.model_selection import GridSearchCV\n",
    "from sklearn.neighbors import KNeighborsClassifier\n",
    "from sklearn.preprocessing import StandardScaler\n",
    "from sklearn.preprocessing import LabelEncoder\n",
    "import matplotlib.pyplot as plt\n",
    "\n",
    "%matplotlib inline"
   ]
  },
  {
   "cell_type": "code",
   "execution_count": 3,
   "metadata": {
    "collapsed": true
   },
   "outputs": [],
   "source": [
    "news = fetch_20newsgroups()"
   ]
  },
  {
   "cell_type": "code",
   "execution_count": 4,
   "metadata": {
    "collapsed": false
   },
   "outputs": [
    {
     "data": {
      "text/plain": [
       "dict_keys(['description', 'DESCR', 'target_names', 'target', 'data', 'filenames'])"
      ]
     },
     "execution_count": 4,
     "metadata": {},
     "output_type": "execute_result"
    }
   ],
   "source": [
    "news.keys()"
   ]
  },
  {
   "cell_type": "code",
   "execution_count": 5,
   "metadata": {
    "collapsed": true
   },
   "outputs": [],
   "source": [
    "news_df = pd.DataFrame()\n",
    "news_df['text'] = news.data\n",
    "news_df['group_num'] = news.target\n",
    "news_df['group'] = (news_df['group_num']\n",
    "                    .apply(lambda x: news['target_names'][x]))"
   ]
  },
  {
   "cell_type": "code",
   "execution_count": 6,
   "metadata": {
    "collapsed": false
   },
   "outputs": [
    {
     "data": {
      "text/html": [
       "<div>\n",
       "<table border=\"1\" class=\"dataframe\">\n",
       "  <thead>\n",
       "    <tr style=\"text-align: right;\">\n",
       "      <th></th>\n",
       "      <th>text</th>\n",
       "      <th>group_num</th>\n",
       "      <th>group</th>\n",
       "    </tr>\n",
       "  </thead>\n",
       "  <tbody>\n",
       "    <tr>\n",
       "      <th>10977</th>\n",
       "      <td>From: oz@ursa.sis.yorku.ca (Ozan S. Yigit)\\nSu...</td>\n",
       "      <td>17</td>\n",
       "      <td>talk.politics.mideast</td>\n",
       "    </tr>\n",
       "    <tr>\n",
       "      <th>5513</th>\n",
       "      <td>From: mikey@ccwf.cc.utexas.edu (Strider)\\nSubj...</td>\n",
       "      <td>16</td>\n",
       "      <td>talk.politics.guns</td>\n",
       "    </tr>\n",
       "    <tr>\n",
       "      <th>7509</th>\n",
       "      <td>From: sysmgr@king.eng.umd.edu (Doug Mohney)\\nS...</td>\n",
       "      <td>14</td>\n",
       "      <td>sci.space</td>\n",
       "    </tr>\n",
       "    <tr>\n",
       "      <th>1948</th>\n",
       "      <td>From: npet@bnr.ca (Nick Pettefar)\\nSubject: Re...</td>\n",
       "      <td>8</td>\n",
       "      <td>rec.motorcycles</td>\n",
       "    </tr>\n",
       "    <tr>\n",
       "      <th>6159</th>\n",
       "      <td>From: jfw@ksr.com (John F. Woods)\\nSubject: Re...</td>\n",
       "      <td>14</td>\n",
       "      <td>sci.space</td>\n",
       "    </tr>\n",
       "  </tbody>\n",
       "</table>\n",
       "</div>"
      ],
      "text/plain": [
       "                                                    text  group_num  \\\n",
       "10977  From: oz@ursa.sis.yorku.ca (Ozan S. Yigit)\\nSu...         17   \n",
       "5513   From: mikey@ccwf.cc.utexas.edu (Strider)\\nSubj...         16   \n",
       "7509   From: sysmgr@king.eng.umd.edu (Doug Mohney)\\nS...         14   \n",
       "1948   From: npet@bnr.ca (Nick Pettefar)\\nSubject: Re...          8   \n",
       "6159   From: jfw@ksr.com (John F. Woods)\\nSubject: Re...         14   \n",
       "\n",
       "                       group  \n",
       "10977  talk.politics.mideast  \n",
       "5513      talk.politics.guns  \n",
       "7509               sci.space  \n",
       "1948         rec.motorcycles  \n",
       "6159               sci.space  "
      ]
     },
     "execution_count": 6,
     "metadata": {},
     "output_type": "execute_result"
    }
   ],
   "source": [
    "news_df.sample(5)"
   ]
  },
  {
   "cell_type": "code",
   "execution_count": 7,
   "metadata": {
    "collapsed": false
   },
   "outputs": [
    {
     "data": {
      "text/plain": [
       "array(['rec.autos', 'comp.sys.mac.hardware', 'comp.graphics', 'sci.space',\n",
       "       'talk.politics.guns', 'sci.med', 'comp.sys.ibm.pc.hardware',\n",
       "       'comp.os.ms-windows.misc', 'rec.motorcycles', 'talk.religion.misc',\n",
       "       'misc.forsale', 'alt.atheism', 'sci.electronics', 'comp.windows.x',\n",
       "       'rec.sport.hockey', 'rec.sport.baseball', 'soc.religion.christian',\n",
       "       'talk.politics.mideast', 'talk.politics.misc', 'sci.crypt'], dtype=object)"
      ]
     },
     "execution_count": 7,
     "metadata": {},
     "output_type": "execute_result"
    }
   ],
   "source": [
    "news_df['group'].unique()"
   ]
  },
  {
   "cell_type": "code",
   "execution_count": 8,
   "metadata": {
    "collapsed": false
   },
   "outputs": [
    {
     "data": {
      "text/plain": [
       "(11314, 3)"
      ]
     },
     "execution_count": 8,
     "metadata": {},
     "output_type": "execute_result"
    }
   ],
   "source": [
    "news_df.shape"
   ]
  },
  {
   "cell_type": "code",
   "execution_count": 9,
   "metadata": {
    "collapsed": true
   },
   "outputs": [],
   "source": [
    "tfidf_vectorizer = TfidfVectorizer(min_df = 1, stop_words = 'english')\n",
    "document_term_matrix = tfidf_vectorizer.fit_transform(news_df['text'])"
   ]
  },
  {
   "cell_type": "code",
   "execution_count": 10,
   "metadata": {
    "collapsed": false
   },
   "outputs": [
    {
     "data": {
      "text/plain": [
       "<11314x129796 sparse matrix of type '<class 'numpy.float64'>'\n",
       "\twith 1300729 stored elements in Compressed Sparse Row format>"
      ]
     },
     "execution_count": 10,
     "metadata": {},
     "output_type": "execute_result"
    }
   ],
   "source": [
    "document_term_matrix"
   ]
  },
  {
   "cell_type": "code",
   "execution_count": null,
   "metadata": {
    "collapsed": true
   },
   "outputs": [],
   "source": [
    "SVD = TruncatedSVD(20)\n",
    "latent_semantic_analysis = SVD.fit_transform(document_term_matrix)"
   ]
  },
  {
   "cell_type": "code",
   "execution_count": 1,
   "metadata": {
    "collapsed": true
   },
   "outputs": [],
   "source": [
    "search_term = \"Apollo Mission\""
   ]
  },
  {
   "cell_type": "code",
   "execution_count": 11,
   "metadata": {
    "collapsed": true
   },
   "outputs": [],
   "source": [
    "search_term_vec = tfidf_vectorizer.transform([search_term])\n",
    "search_term_lsa = SVD.transform(search_term_vec)"
   ]
  },
  {
   "cell_type": "code",
   "execution_count": 12,
   "metadata": {
    "collapsed": true
   },
   "outputs": [],
   "source": [
    "cosine_similarities = latent_semantic_analysis.dot(search_term_lsa.T).ravel()"
   ]
  },
  {
   "cell_type": "code",
   "execution_count": 13,
   "metadata": {
    "collapsed": false
   },
   "outputs": [
    {
     "data": {
      "text/plain": [
       "array([ 4425,  9096, 11088,  8630,  2800])"
      ]
     },
     "execution_count": 13,
     "metadata": {},
     "output_type": "execute_result"
    }
   ],
   "source": [
    "cosine_similarities.argsort()[:-6:-1]"
   ]
  },
  {
   "cell_type": "code",
   "execution_count": 14,
   "metadata": {
    "collapsed": false
   },
   "outputs": [
    {
     "name": "stdout",
     "output_type": "stream",
     "text": [
      "From: leech@cs.unc.edu (Jon Leech)\n",
      "Subject: Space FAQ 08/15 - Addresses\n",
      "Supersedes: <addresses_730956515@cs.unc.edu>\n",
      "Organization: University of North Carolina, Chapel Hill\n",
      "Lines: 230\n",
      "Distribution: world\n",
      "Expires: 6 May 1993 19:58:29 GMT\n",
      "NNTP-Posting-Host: mahler.cs.unc.edu\n",
      "Keywords: Frequently Asked Questions\n",
      "\n",
      "Archive-name: space/addresses\n",
      "Last-modified: $Date: 93/04/01 14:38:55 $\n",
      "\n",
      "CONTACTING NASA, ESA, AND OTHER SPACE AGENCIES/COMPANIES\n",
      "\n",
      "Many space activities center around large Government or I\n"
     ]
    }
   ],
   "source": [
    "print(news_df.loc[4425]['text'][:500])"
   ]
  },
  {
   "cell_type": "code",
   "execution_count": 15,
   "metadata": {
    "collapsed": false
   },
   "outputs": [
    {
     "data": {
      "text/plain": [
       "False"
      ]
     },
     "execution_count": 15,
     "metadata": {},
     "output_type": "execute_result"
    }
   ],
   "source": [
    "\"Apollo\" in news_df.loc[4425]['text']"
   ]
  },
  {
   "cell_type": "code",
   "execution_count": 16,
   "metadata": {
    "collapsed": false
   },
   "outputs": [
    {
     "name": "stdout",
     "output_type": "stream",
     "text": [
      "Subject: Space FAQ 01/15 - Introduction\n",
      "From: leech@cs.unc.edu (Jon Leech)\n",
      "Expires: 6 May 1993 19:53:44 GMT\n",
      "Organization: University of North Carolina, Chapel Hill\n",
      "Keywords: Frequently Asked Questions\n",
      "Supersedes: <intro_730956346@cs.unc.edu>\n",
      "NNTP-Posting-Host: mahler.cs.unc.edu\n",
      "Lines: 310\n",
      "\n",
      "Archive-name: space/intro\n",
      "Last-modified: $Date: 93/04/01 14:39:10 $\n",
      "\n",
      "    FREQUENTLY ASKED QUESTIONS ON SCI.SPACE/SCI.ASTRO\n",
      "\n",
      "    INTRODUCTION\n",
      "\n",
      "    This series of linked messages is periodically posted to the Usenet\n",
      "groups sci.space and sci.astro in an attempt to provide good answers to\n",
      "frequently asked questions and other reference material which is worth\n",
      "preserving. If you have corrections or answers to other frequently asked\n",
      "questions that you would like included in this posting, send email to\n",
      "leech@cs.unc.edu (Jon Leech).\n",
      "\n",
      "    If you don't want to see the FAQ, add 'Frequently Asked Questions' to\n",
      "your KILL file for this group (if you're not reading this with a newsreader\n",
      "that can kill articles by su\n"
     ]
    }
   ],
   "source": [
    "print(news_df.loc[9096]['text'][:1000])"
   ]
  },
  {
   "cell_type": "code",
   "execution_count": 17,
   "metadata": {
    "collapsed": false
   },
   "outputs": [
    {
     "data": {
      "text/html": [
       "<div>\n",
       "<table border=\"1\" class=\"dataframe\">\n",
       "  <thead>\n",
       "    <tr style=\"text-align: right;\">\n",
       "      <th></th>\n",
       "      <th>text</th>\n",
       "      <th>group_num</th>\n",
       "    </tr>\n",
       "    <tr>\n",
       "      <th>group</th>\n",
       "      <th></th>\n",
       "      <th></th>\n",
       "    </tr>\n",
       "  </thead>\n",
       "  <tbody>\n",
       "    <tr>\n",
       "      <th>alt.atheism</th>\n",
       "      <td>480</td>\n",
       "      <td>480</td>\n",
       "    </tr>\n",
       "    <tr>\n",
       "      <th>comp.graphics</th>\n",
       "      <td>584</td>\n",
       "      <td>584</td>\n",
       "    </tr>\n",
       "    <tr>\n",
       "      <th>comp.os.ms-windows.misc</th>\n",
       "      <td>591</td>\n",
       "      <td>591</td>\n",
       "    </tr>\n",
       "    <tr>\n",
       "      <th>comp.sys.ibm.pc.hardware</th>\n",
       "      <td>590</td>\n",
       "      <td>590</td>\n",
       "    </tr>\n",
       "    <tr>\n",
       "      <th>comp.sys.mac.hardware</th>\n",
       "      <td>578</td>\n",
       "      <td>578</td>\n",
       "    </tr>\n",
       "    <tr>\n",
       "      <th>comp.windows.x</th>\n",
       "      <td>593</td>\n",
       "      <td>593</td>\n",
       "    </tr>\n",
       "    <tr>\n",
       "      <th>misc.forsale</th>\n",
       "      <td>585</td>\n",
       "      <td>585</td>\n",
       "    </tr>\n",
       "    <tr>\n",
       "      <th>rec.autos</th>\n",
       "      <td>594</td>\n",
       "      <td>594</td>\n",
       "    </tr>\n",
       "    <tr>\n",
       "      <th>rec.motorcycles</th>\n",
       "      <td>598</td>\n",
       "      <td>598</td>\n",
       "    </tr>\n",
       "    <tr>\n",
       "      <th>rec.sport.baseball</th>\n",
       "      <td>597</td>\n",
       "      <td>597</td>\n",
       "    </tr>\n",
       "    <tr>\n",
       "      <th>rec.sport.hockey</th>\n",
       "      <td>600</td>\n",
       "      <td>600</td>\n",
       "    </tr>\n",
       "    <tr>\n",
       "      <th>sci.crypt</th>\n",
       "      <td>595</td>\n",
       "      <td>595</td>\n",
       "    </tr>\n",
       "    <tr>\n",
       "      <th>sci.electronics</th>\n",
       "      <td>591</td>\n",
       "      <td>591</td>\n",
       "    </tr>\n",
       "    <tr>\n",
       "      <th>sci.med</th>\n",
       "      <td>594</td>\n",
       "      <td>594</td>\n",
       "    </tr>\n",
       "    <tr>\n",
       "      <th>sci.space</th>\n",
       "      <td>593</td>\n",
       "      <td>593</td>\n",
       "    </tr>\n",
       "    <tr>\n",
       "      <th>soc.religion.christian</th>\n",
       "      <td>599</td>\n",
       "      <td>599</td>\n",
       "    </tr>\n",
       "    <tr>\n",
       "      <th>talk.politics.guns</th>\n",
       "      <td>546</td>\n",
       "      <td>546</td>\n",
       "    </tr>\n",
       "    <tr>\n",
       "      <th>talk.politics.mideast</th>\n",
       "      <td>564</td>\n",
       "      <td>564</td>\n",
       "    </tr>\n",
       "    <tr>\n",
       "      <th>talk.politics.misc</th>\n",
       "      <td>465</td>\n",
       "      <td>465</td>\n",
       "    </tr>\n",
       "    <tr>\n",
       "      <th>talk.religion.misc</th>\n",
       "      <td>377</td>\n",
       "      <td>377</td>\n",
       "    </tr>\n",
       "  </tbody>\n",
       "</table>\n",
       "</div>"
      ],
      "text/plain": [
       "                          text  group_num\n",
       "group                                    \n",
       "alt.atheism                480        480\n",
       "comp.graphics              584        584\n",
       "comp.os.ms-windows.misc    591        591\n",
       "comp.sys.ibm.pc.hardware   590        590\n",
       "comp.sys.mac.hardware      578        578\n",
       "comp.windows.x             593        593\n",
       "misc.forsale               585        585\n",
       "rec.autos                  594        594\n",
       "rec.motorcycles            598        598\n",
       "rec.sport.baseball         597        597\n",
       "rec.sport.hockey           600        600\n",
       "sci.crypt                  595        595\n",
       "sci.electronics            591        591\n",
       "sci.med                    594        594\n",
       "sci.space                  593        593\n",
       "soc.religion.christian     599        599\n",
       "talk.politics.guns         546        546\n",
       "talk.politics.mideast      564        564\n",
       "talk.politics.misc         465        465\n",
       "talk.religion.misc         377        377"
      ]
     },
     "execution_count": 17,
     "metadata": {},
     "output_type": "execute_result"
    }
   ],
   "source": [
    "news_df.groupby('group').count()"
   ]
  },
  {
   "cell_type": "code",
   "execution_count": 18,
   "metadata": {
    "collapsed": false
   },
   "outputs": [
    {
     "data": {
      "text/plain": [
       "GridSearchCV(cv=None, error_score='raise',\n",
       "       estimator=KNeighborsClassifier(algorithm='auto', leaf_size=30, metric='minkowski',\n",
       "           metric_params=None, n_jobs=1, n_neighbors=5, p=2,\n",
       "           weights='uniform'),\n",
       "       fit_params={}, iid=True, n_jobs=1,\n",
       "       param_grid={'n_neighbors': range(2, 20)}, pre_dispatch='2*n_jobs',\n",
       "       refit=True, return_train_score=True, scoring=None, verbose=0)"
      ]
     },
     "execution_count": 18,
     "metadata": {},
     "output_type": "execute_result"
    }
   ],
   "source": [
    "KNN = KNeighborsClassifier()\n",
    "gs = GridSearchCV(KNN, param_grid={'n_neighbors':range(2,20)})\n",
    "gs.fit(latent_semantic_analysis, news_df['group_num'])"
   ]
  },
  {
   "cell_type": "code",
   "execution_count": 19,
   "metadata": {
    "collapsed": false
   },
   "outputs": [
    {
     "data": {
      "text/html": [
       "<div>\n",
       "<table border=\"1\" class=\"dataframe\">\n",
       "  <thead>\n",
       "    <tr style=\"text-align: right;\">\n",
       "      <th></th>\n",
       "      <th>0</th>\n",
       "      <th>1</th>\n",
       "      <th>2</th>\n",
       "      <th>3</th>\n",
       "      <th>4</th>\n",
       "      <th>5</th>\n",
       "      <th>6</th>\n",
       "      <th>7</th>\n",
       "      <th>8</th>\n",
       "      <th>9</th>\n",
       "      <th>10</th>\n",
       "      <th>11</th>\n",
       "      <th>12</th>\n",
       "      <th>13</th>\n",
       "      <th>14</th>\n",
       "      <th>15</th>\n",
       "      <th>16</th>\n",
       "      <th>17</th>\n",
       "    </tr>\n",
       "  </thead>\n",
       "  <tbody>\n",
       "    <tr>\n",
       "      <th>mean_fit_time</th>\n",
       "      <td>0.0105559</td>\n",
       "      <td>0.0104996</td>\n",
       "      <td>0.0120105</td>\n",
       "      <td>0.0103611</td>\n",
       "      <td>0.0108833</td>\n",
       "      <td>0.010136</td>\n",
       "      <td>0.010355</td>\n",
       "      <td>0.00981832</td>\n",
       "      <td>0.0106159</td>\n",
       "      <td>0.011643</td>\n",
       "      <td>0.0107543</td>\n",
       "      <td>0.0112865</td>\n",
       "      <td>0.00978502</td>\n",
       "      <td>0.0101595</td>\n",
       "      <td>0.0124672</td>\n",
       "      <td>0.0103759</td>\n",
       "      <td>0.00962996</td>\n",
       "      <td>0.00967844</td>\n",
       "    </tr>\n",
       "    <tr>\n",
       "      <th>mean_score_time</th>\n",
       "      <td>0.621968</td>\n",
       "      <td>0.634648</td>\n",
       "      <td>0.945882</td>\n",
       "      <td>0.889081</td>\n",
       "      <td>0.801124</td>\n",
       "      <td>0.766714</td>\n",
       "      <td>0.801355</td>\n",
       "      <td>0.764833</td>\n",
       "      <td>0.771571</td>\n",
       "      <td>0.791871</td>\n",
       "      <td>0.876664</td>\n",
       "      <td>0.817658</td>\n",
       "      <td>0.822813</td>\n",
       "      <td>0.833894</td>\n",
       "      <td>0.913665</td>\n",
       "      <td>0.849373</td>\n",
       "      <td>0.827763</td>\n",
       "      <td>0.840447</td>\n",
       "    </tr>\n",
       "    <tr>\n",
       "      <th>mean_test_score</th>\n",
       "      <td>0.59855</td>\n",
       "      <td>0.619763</td>\n",
       "      <td>0.623652</td>\n",
       "      <td>0.633817</td>\n",
       "      <td>0.636468</td>\n",
       "      <td>0.638147</td>\n",
       "      <td>0.637264</td>\n",
       "      <td>0.639562</td>\n",
       "      <td>0.637617</td>\n",
       "      <td>0.639296</td>\n",
       "      <td>0.638236</td>\n",
       "      <td>0.637175</td>\n",
       "      <td>0.636203</td>\n",
       "      <td>0.636026</td>\n",
       "      <td>0.635673</td>\n",
       "      <td>0.635849</td>\n",
       "      <td>0.634082</td>\n",
       "      <td>0.635496</td>\n",
       "    </tr>\n",
       "    <tr>\n",
       "      <th>mean_train_score</th>\n",
       "      <td>0.811296</td>\n",
       "      <td>0.790392</td>\n",
       "      <td>0.771875</td>\n",
       "      <td>0.761137</td>\n",
       "      <td>0.748543</td>\n",
       "      <td>0.738333</td>\n",
       "      <td>0.730777</td>\n",
       "      <td>0.723308</td>\n",
       "      <td>0.716104</td>\n",
       "      <td>0.710404</td>\n",
       "      <td>0.706426</td>\n",
       "      <td>0.702847</td>\n",
       "      <td>0.698251</td>\n",
       "      <td>0.692815</td>\n",
       "      <td>0.690649</td>\n",
       "      <td>0.688882</td>\n",
       "      <td>0.684728</td>\n",
       "      <td>0.683932</td>\n",
       "    </tr>\n",
       "    <tr>\n",
       "      <th>param_n_neighbors</th>\n",
       "      <td>2</td>\n",
       "      <td>3</td>\n",
       "      <td>4</td>\n",
       "      <td>5</td>\n",
       "      <td>6</td>\n",
       "      <td>7</td>\n",
       "      <td>8</td>\n",
       "      <td>9</td>\n",
       "      <td>10</td>\n",
       "      <td>11</td>\n",
       "      <td>12</td>\n",
       "      <td>13</td>\n",
       "      <td>14</td>\n",
       "      <td>15</td>\n",
       "      <td>16</td>\n",
       "      <td>17</td>\n",
       "      <td>18</td>\n",
       "      <td>19</td>\n",
       "    </tr>\n",
       "    <tr>\n",
       "      <th>params</th>\n",
       "      <td>{'n_neighbors': 2}</td>\n",
       "      <td>{'n_neighbors': 3}</td>\n",
       "      <td>{'n_neighbors': 4}</td>\n",
       "      <td>{'n_neighbors': 5}</td>\n",
       "      <td>{'n_neighbors': 6}</td>\n",
       "      <td>{'n_neighbors': 7}</td>\n",
       "      <td>{'n_neighbors': 8}</td>\n",
       "      <td>{'n_neighbors': 9}</td>\n",
       "      <td>{'n_neighbors': 10}</td>\n",
       "      <td>{'n_neighbors': 11}</td>\n",
       "      <td>{'n_neighbors': 12}</td>\n",
       "      <td>{'n_neighbors': 13}</td>\n",
       "      <td>{'n_neighbors': 14}</td>\n",
       "      <td>{'n_neighbors': 15}</td>\n",
       "      <td>{'n_neighbors': 16}</td>\n",
       "      <td>{'n_neighbors': 17}</td>\n",
       "      <td>{'n_neighbors': 18}</td>\n",
       "      <td>{'n_neighbors': 19}</td>\n",
       "    </tr>\n",
       "    <tr>\n",
       "      <th>rank_test_score</th>\n",
       "      <td>18</td>\n",
       "      <td>17</td>\n",
       "      <td>16</td>\n",
       "      <td>15</td>\n",
       "      <td>8</td>\n",
       "      <td>4</td>\n",
       "      <td>6</td>\n",
       "      <td>1</td>\n",
       "      <td>5</td>\n",
       "      <td>2</td>\n",
       "      <td>3</td>\n",
       "      <td>7</td>\n",
       "      <td>9</td>\n",
       "      <td>10</td>\n",
       "      <td>12</td>\n",
       "      <td>11</td>\n",
       "      <td>14</td>\n",
       "      <td>13</td>\n",
       "    </tr>\n",
       "    <tr>\n",
       "      <th>split0_test_score</th>\n",
       "      <td>0.598411</td>\n",
       "      <td>0.618543</td>\n",
       "      <td>0.617219</td>\n",
       "      <td>0.630464</td>\n",
       "      <td>0.627815</td>\n",
       "      <td>0.630199</td>\n",
       "      <td>0.632053</td>\n",
       "      <td>0.632583</td>\n",
       "      <td>0.634172</td>\n",
       "      <td>0.636821</td>\n",
       "      <td>0.635497</td>\n",
       "      <td>0.634172</td>\n",
       "      <td>0.629404</td>\n",
       "      <td>0.628079</td>\n",
       "      <td>0.629139</td>\n",
       "      <td>0.629934</td>\n",
       "      <td>0.629669</td>\n",
       "      <td>0.629139</td>\n",
       "    </tr>\n",
       "    <tr>\n",
       "      <th>split0_train_score</th>\n",
       "      <td>0.812442</td>\n",
       "      <td>0.795198</td>\n",
       "      <td>0.774241</td>\n",
       "      <td>0.764027</td>\n",
       "      <td>0.754079</td>\n",
       "      <td>0.740284</td>\n",
       "      <td>0.737366</td>\n",
       "      <td>0.72755</td>\n",
       "      <td>0.721714</td>\n",
       "      <td>0.716806</td>\n",
       "      <td>0.711633</td>\n",
       "      <td>0.709908</td>\n",
       "      <td>0.704337</td>\n",
       "      <td>0.696644</td>\n",
       "      <td>0.693593</td>\n",
       "      <td>0.697042</td>\n",
       "      <td>0.689216</td>\n",
       "      <td>0.689083</td>\n",
       "    </tr>\n",
       "    <tr>\n",
       "      <th>split1_test_score</th>\n",
       "      <td>0.604294</td>\n",
       "      <td>0.627617</td>\n",
       "      <td>0.631858</td>\n",
       "      <td>0.639544</td>\n",
       "      <td>0.645905</td>\n",
       "      <td>0.652001</td>\n",
       "      <td>0.64723</td>\n",
       "      <td>0.650411</td>\n",
       "      <td>0.64776</td>\n",
       "      <td>0.649086</td>\n",
       "      <td>0.6467</td>\n",
       "      <td>0.64246</td>\n",
       "      <td>0.643255</td>\n",
       "      <td>0.644845</td>\n",
       "      <td>0.644315</td>\n",
       "      <td>0.64458</td>\n",
       "      <td>0.641399</td>\n",
       "      <td>0.64458</td>\n",
       "    </tr>\n",
       "    <tr>\n",
       "      <th>split1_train_score</th>\n",
       "      <td>0.809972</td>\n",
       "      <td>0.78345</td>\n",
       "      <td>0.766874</td>\n",
       "      <td>0.757724</td>\n",
       "      <td>0.744464</td>\n",
       "      <td>0.734518</td>\n",
       "      <td>0.725766</td>\n",
       "      <td>0.719268</td>\n",
       "      <td>0.710516</td>\n",
       "      <td>0.704946</td>\n",
       "      <td>0.701233</td>\n",
       "      <td>0.696062</td>\n",
       "      <td>0.694072</td>\n",
       "      <td>0.689166</td>\n",
       "      <td>0.687707</td>\n",
       "      <td>0.682801</td>\n",
       "      <td>0.681209</td>\n",
       "      <td>0.680812</td>\n",
       "    </tr>\n",
       "    <tr>\n",
       "      <th>split2_test_score</th>\n",
       "      <td>0.592937</td>\n",
       "      <td>0.613117</td>\n",
       "      <td>0.62188</td>\n",
       "      <td>0.631439</td>\n",
       "      <td>0.635688</td>\n",
       "      <td>0.632236</td>\n",
       "      <td>0.632501</td>\n",
       "      <td>0.635688</td>\n",
       "      <td>0.630908</td>\n",
       "      <td>0.63197</td>\n",
       "      <td>0.632501</td>\n",
       "      <td>0.634891</td>\n",
       "      <td>0.635953</td>\n",
       "      <td>0.635157</td>\n",
       "      <td>0.633563</td>\n",
       "      <td>0.633032</td>\n",
       "      <td>0.631174</td>\n",
       "      <td>0.632767</td>\n",
       "    </tr>\n",
       "    <tr>\n",
       "      <th>split2_train_score</th>\n",
       "      <td>0.811473</td>\n",
       "      <td>0.792528</td>\n",
       "      <td>0.77451</td>\n",
       "      <td>0.761659</td>\n",
       "      <td>0.747085</td>\n",
       "      <td>0.740196</td>\n",
       "      <td>0.7292</td>\n",
       "      <td>0.723105</td>\n",
       "      <td>0.716084</td>\n",
       "      <td>0.709459</td>\n",
       "      <td>0.706412</td>\n",
       "      <td>0.70257</td>\n",
       "      <td>0.696343</td>\n",
       "      <td>0.692634</td>\n",
       "      <td>0.690647</td>\n",
       "      <td>0.686804</td>\n",
       "      <td>0.683757</td>\n",
       "      <td>0.681902</td>\n",
       "    </tr>\n",
       "    <tr>\n",
       "      <th>std_fit_time</th>\n",
       "      <td>0.000860197</td>\n",
       "      <td>0.00122517</td>\n",
       "      <td>0.00251459</td>\n",
       "      <td>0.000772041</td>\n",
       "      <td>0.00135001</td>\n",
       "      <td>0.000293166</td>\n",
       "      <td>0.000788046</td>\n",
       "      <td>3.81921e-05</td>\n",
       "      <td>0.00067735</td>\n",
       "      <td>0.00292126</td>\n",
       "      <td>0.00127862</td>\n",
       "      <td>0.00124103</td>\n",
       "      <td>0.000226113</td>\n",
       "      <td>0.000211912</td>\n",
       "      <td>0.000733467</td>\n",
       "      <td>0.00065105</td>\n",
       "      <td>9.22473e-05</td>\n",
       "      <td>0.000269368</td>\n",
       "    </tr>\n",
       "    <tr>\n",
       "      <th>std_score_time</th>\n",
       "      <td>0.028554</td>\n",
       "      <td>0.014254</td>\n",
       "      <td>0.137237</td>\n",
       "      <td>0.270279</td>\n",
       "      <td>0.0520059</td>\n",
       "      <td>0.0336329</td>\n",
       "      <td>0.0295759</td>\n",
       "      <td>0.00977855</td>\n",
       "      <td>0.0244894</td>\n",
       "      <td>0.025192</td>\n",
       "      <td>0.0190558</td>\n",
       "      <td>0.0195698</td>\n",
       "      <td>0.00786633</td>\n",
       "      <td>0.00783266</td>\n",
       "      <td>0.0950243</td>\n",
       "      <td>0.024759</td>\n",
       "      <td>0.0130999</td>\n",
       "      <td>0.016727</td>\n",
       "    </tr>\n",
       "    <tr>\n",
       "      <th>std_test_score</th>\n",
       "      <td>0.00463635</td>\n",
       "      <td>0.00598077</td>\n",
       "      <td>0.00610826</td>\n",
       "      <td>0.00407091</td>\n",
       "      <td>0.00740858</td>\n",
       "      <td>0.00983446</td>\n",
       "      <td>0.00705227</td>\n",
       "      <td>0.00777805</td>\n",
       "      <td>0.00729744</td>\n",
       "      <td>0.00720185</td>\n",
       "      <td>0.00611081</td>\n",
       "      <td>0.00374938</td>\n",
       "      <td>0.00565928</td>\n",
       "      <td>0.00687439</td>\n",
       "      <td>0.00637423</td>\n",
       "      <td>0.00630366</td>\n",
       "      <td>0.00521246</td>\n",
       "      <td>0.00659397</td>\n",
       "    </tr>\n",
       "    <tr>\n",
       "      <th>std_train_score</th>\n",
       "      <td>0.00101608</td>\n",
       "      <td>0.00502816</td>\n",
       "      <td>0.00353761</td>\n",
       "      <td>0.00259937</td>\n",
       "      <td>0.00405838</td>\n",
       "      <td>0.00269761</td>\n",
       "      <td>0.0048652</td>\n",
       "      <td>0.00338417</td>\n",
       "      <td>0.00457155</td>\n",
       "      <td>0.00488752</td>\n",
       "      <td>0.00424562</td>\n",
       "      <td>0.00565637</td>\n",
       "      <td>0.00440244</td>\n",
       "      <td>0.00305565</td>\n",
       "      <td>0.002403</td>\n",
       "      <td>0.0059968</td>\n",
       "      <td>0.00333995</td>\n",
       "      <td>0.00366939</td>\n",
       "    </tr>\n",
       "  </tbody>\n",
       "</table>\n",
       "</div>"
      ],
      "text/plain": [
       "                                    0                   1   \\\n",
       "mean_fit_time                0.0105559           0.0104996   \n",
       "mean_score_time               0.621968            0.634648   \n",
       "mean_test_score                0.59855            0.619763   \n",
       "mean_train_score              0.811296            0.790392   \n",
       "param_n_neighbors                    2                   3   \n",
       "params              {'n_neighbors': 2}  {'n_neighbors': 3}   \n",
       "rank_test_score                     18                  17   \n",
       "split0_test_score             0.598411            0.618543   \n",
       "split0_train_score            0.812442            0.795198   \n",
       "split1_test_score             0.604294            0.627617   \n",
       "split1_train_score            0.809972             0.78345   \n",
       "split2_test_score             0.592937            0.613117   \n",
       "split2_train_score            0.811473            0.792528   \n",
       "std_fit_time               0.000860197          0.00122517   \n",
       "std_score_time                0.028554            0.014254   \n",
       "std_test_score              0.00463635          0.00598077   \n",
       "std_train_score             0.00101608          0.00502816   \n",
       "\n",
       "                                    2                   3   \\\n",
       "mean_fit_time                0.0120105           0.0103611   \n",
       "mean_score_time               0.945882            0.889081   \n",
       "mean_test_score               0.623652            0.633817   \n",
       "mean_train_score              0.771875            0.761137   \n",
       "param_n_neighbors                    4                   5   \n",
       "params              {'n_neighbors': 4}  {'n_neighbors': 5}   \n",
       "rank_test_score                     16                  15   \n",
       "split0_test_score             0.617219            0.630464   \n",
       "split0_train_score            0.774241            0.764027   \n",
       "split1_test_score             0.631858            0.639544   \n",
       "split1_train_score            0.766874            0.757724   \n",
       "split2_test_score              0.62188            0.631439   \n",
       "split2_train_score             0.77451            0.761659   \n",
       "std_fit_time                0.00251459         0.000772041   \n",
       "std_score_time                0.137237            0.270279   \n",
       "std_test_score              0.00610826          0.00407091   \n",
       "std_train_score             0.00353761          0.00259937   \n",
       "\n",
       "                                    4                   5   \\\n",
       "mean_fit_time                0.0108833            0.010136   \n",
       "mean_score_time               0.801124            0.766714   \n",
       "mean_test_score               0.636468            0.638147   \n",
       "mean_train_score              0.748543            0.738333   \n",
       "param_n_neighbors                    6                   7   \n",
       "params              {'n_neighbors': 6}  {'n_neighbors': 7}   \n",
       "rank_test_score                      8                   4   \n",
       "split0_test_score             0.627815            0.630199   \n",
       "split0_train_score            0.754079            0.740284   \n",
       "split1_test_score             0.645905            0.652001   \n",
       "split1_train_score            0.744464            0.734518   \n",
       "split2_test_score             0.635688            0.632236   \n",
       "split2_train_score            0.747085            0.740196   \n",
       "std_fit_time                0.00135001         0.000293166   \n",
       "std_score_time               0.0520059           0.0336329   \n",
       "std_test_score              0.00740858          0.00983446   \n",
       "std_train_score             0.00405838          0.00269761   \n",
       "\n",
       "                                    6                   7   \\\n",
       "mean_fit_time                 0.010355          0.00981832   \n",
       "mean_score_time               0.801355            0.764833   \n",
       "mean_test_score               0.637264            0.639562   \n",
       "mean_train_score              0.730777            0.723308   \n",
       "param_n_neighbors                    8                   9   \n",
       "params              {'n_neighbors': 8}  {'n_neighbors': 9}   \n",
       "rank_test_score                      6                   1   \n",
       "split0_test_score             0.632053            0.632583   \n",
       "split0_train_score            0.737366             0.72755   \n",
       "split1_test_score              0.64723            0.650411   \n",
       "split1_train_score            0.725766            0.719268   \n",
       "split2_test_score             0.632501            0.635688   \n",
       "split2_train_score              0.7292            0.723105   \n",
       "std_fit_time               0.000788046         3.81921e-05   \n",
       "std_score_time               0.0295759          0.00977855   \n",
       "std_test_score              0.00705227          0.00777805   \n",
       "std_train_score              0.0048652          0.00338417   \n",
       "\n",
       "                                     8                    9   \\\n",
       "mean_fit_time                 0.0106159             0.011643   \n",
       "mean_score_time                0.771571             0.791871   \n",
       "mean_test_score                0.637617             0.639296   \n",
       "mean_train_score               0.716104             0.710404   \n",
       "param_n_neighbors                    10                   11   \n",
       "params              {'n_neighbors': 10}  {'n_neighbors': 11}   \n",
       "rank_test_score                       5                    2   \n",
       "split0_test_score              0.634172             0.636821   \n",
       "split0_train_score             0.721714             0.716806   \n",
       "split1_test_score               0.64776             0.649086   \n",
       "split1_train_score             0.710516             0.704946   \n",
       "split2_test_score              0.630908              0.63197   \n",
       "split2_train_score             0.716084             0.709459   \n",
       "std_fit_time                 0.00067735           0.00292126   \n",
       "std_score_time                0.0244894             0.025192   \n",
       "std_test_score               0.00729744           0.00720185   \n",
       "std_train_score              0.00457155           0.00488752   \n",
       "\n",
       "                                     10                   11  \\\n",
       "mean_fit_time                 0.0107543            0.0112865   \n",
       "mean_score_time                0.876664             0.817658   \n",
       "mean_test_score                0.638236             0.637175   \n",
       "mean_train_score               0.706426             0.702847   \n",
       "param_n_neighbors                    12                   13   \n",
       "params              {'n_neighbors': 12}  {'n_neighbors': 13}   \n",
       "rank_test_score                       3                    7   \n",
       "split0_test_score              0.635497             0.634172   \n",
       "split0_train_score             0.711633             0.709908   \n",
       "split1_test_score                0.6467              0.64246   \n",
       "split1_train_score             0.701233             0.696062   \n",
       "split2_test_score              0.632501             0.634891   \n",
       "split2_train_score             0.706412              0.70257   \n",
       "std_fit_time                 0.00127862           0.00124103   \n",
       "std_score_time                0.0190558            0.0195698   \n",
       "std_test_score               0.00611081           0.00374938   \n",
       "std_train_score              0.00424562           0.00565637   \n",
       "\n",
       "                                     12                   13  \\\n",
       "mean_fit_time                0.00978502            0.0101595   \n",
       "mean_score_time                0.822813             0.833894   \n",
       "mean_test_score                0.636203             0.636026   \n",
       "mean_train_score               0.698251             0.692815   \n",
       "param_n_neighbors                    14                   15   \n",
       "params              {'n_neighbors': 14}  {'n_neighbors': 15}   \n",
       "rank_test_score                       9                   10   \n",
       "split0_test_score              0.629404             0.628079   \n",
       "split0_train_score             0.704337             0.696644   \n",
       "split1_test_score              0.643255             0.644845   \n",
       "split1_train_score             0.694072             0.689166   \n",
       "split2_test_score              0.635953             0.635157   \n",
       "split2_train_score             0.696343             0.692634   \n",
       "std_fit_time                0.000226113          0.000211912   \n",
       "std_score_time               0.00786633           0.00783266   \n",
       "std_test_score               0.00565928           0.00687439   \n",
       "std_train_score              0.00440244           0.00305565   \n",
       "\n",
       "                                     14                   15  \\\n",
       "mean_fit_time                 0.0124672            0.0103759   \n",
       "mean_score_time                0.913665             0.849373   \n",
       "mean_test_score                0.635673             0.635849   \n",
       "mean_train_score               0.690649             0.688882   \n",
       "param_n_neighbors                    16                   17   \n",
       "params              {'n_neighbors': 16}  {'n_neighbors': 17}   \n",
       "rank_test_score                      12                   11   \n",
       "split0_test_score              0.629139             0.629934   \n",
       "split0_train_score             0.693593             0.697042   \n",
       "split1_test_score              0.644315              0.64458   \n",
       "split1_train_score             0.687707             0.682801   \n",
       "split2_test_score              0.633563             0.633032   \n",
       "split2_train_score             0.690647             0.686804   \n",
       "std_fit_time                0.000733467           0.00065105   \n",
       "std_score_time                0.0950243             0.024759   \n",
       "std_test_score               0.00637423           0.00630366   \n",
       "std_train_score                0.002403            0.0059968   \n",
       "\n",
       "                                     16                   17  \n",
       "mean_fit_time                0.00962996           0.00967844  \n",
       "mean_score_time                0.827763             0.840447  \n",
       "mean_test_score                0.634082             0.635496  \n",
       "mean_train_score               0.684728             0.683932  \n",
       "param_n_neighbors                    18                   19  \n",
       "params              {'n_neighbors': 18}  {'n_neighbors': 19}  \n",
       "rank_test_score                      14                   13  \n",
       "split0_test_score              0.629669             0.629139  \n",
       "split0_train_score             0.689216             0.689083  \n",
       "split1_test_score              0.641399              0.64458  \n",
       "split1_train_score             0.681209             0.680812  \n",
       "split2_test_score              0.631174             0.632767  \n",
       "split2_train_score             0.683757             0.681902  \n",
       "std_fit_time                9.22473e-05          0.000269368  \n",
       "std_score_time                0.0130999             0.016727  \n",
       "std_test_score               0.00521246           0.00659397  \n",
       "std_train_score              0.00333995           0.00366939  "
      ]
     },
     "execution_count": 19,
     "metadata": {},
     "output_type": "execute_result"
    }
   ],
   "source": [
    "gs_res_df = pd.DataFrame(gs.cv_results_)\n",
    "gs_res_df.T"
   ]
  },
  {
   "cell_type": "code",
   "execution_count": 20,
   "metadata": {
    "collapsed": false
   },
   "outputs": [
    {
     "data": {
      "text/plain": [
       "[<matplotlib.lines.Line2D at 0x7f74edd75940>]"
      ]
     },
     "execution_count": 20,
     "metadata": {},
     "output_type": "execute_result"
    },
    {
     "data": {
      "image/png": "[encoded data removed]",
      "text/plain": [
       "<matplotlib.figure.Figure at 0x7f74b077c160>"
      ]
     },
     "metadata": {},
     "output_type": "display_data"
    }
   ],
   "source": [
    "plt.plot(gs_res_df['param_n_neighbors'], gs_res_df['mean_test_score'])"
   ]
  },
  {
   "cell_type": "code",
   "execution_count": 21,
   "metadata": {
    "collapsed": false
   },
   "outputs": [
    {
     "data": {
      "text/plain": [
       "KNeighborsClassifier(algorithm='auto', leaf_size=30, metric='minkowski',\n",
       "           metric_params=None, n_jobs=1, n_neighbors=9, p=2,\n",
       "           weights='uniform')"
      ]
     },
     "execution_count": 21,
     "metadata": {},
     "output_type": "execute_result"
    }
   ],
   "source": [
    "gs.best_estimator_"
   ]
  },
  {
   "cell_type": "code",
   "execution_count": 22,
   "metadata": {
    "collapsed": false
   },
   "outputs": [
    {
     "data": {
      "text/plain": [
       "array([2])"
      ]
     },
     "execution_count": 22,
     "metadata": {},
     "output_type": "execute_result"
    }
   ],
   "source": [
    "gs.predict(search_term_lsa)"
   ]
  },
  {
   "cell_type": "code",
   "execution_count": 23,
   "metadata": {
    "collapsed": false
   },
   "outputs": [
    {
     "data": {
      "text/plain": [
       "dict_keys(['description', 'filenames', 'data', 'DESCR', 'target', 'target_names'])"
      ]
     },
     "execution_count": 23,
     "metadata": {},
     "output_type": "execute_result"
    }
   ],
   "source": [
    "news.keys()"
   ]
  },
  {
   "cell_type": "code",
   "execution_count": 24,
   "metadata": {
    "collapsed": false
   },
   "outputs": [
    {
     "data": {
      "text/plain": [
       "['alt.atheism',\n",
       " 'comp.graphics',\n",
       " 'comp.os.ms-windows.misc',\n",
       " 'comp.sys.ibm.pc.hardware',\n",
       " 'comp.sys.mac.hardware',\n",
       " 'comp.windows.x',\n",
       " 'misc.forsale',\n",
       " 'rec.autos',\n",
       " 'rec.motorcycles',\n",
       " 'rec.sport.baseball',\n",
       " 'rec.sport.hockey',\n",
       " 'sci.crypt',\n",
       " 'sci.electronics',\n",
       " 'sci.med',\n",
       " 'sci.space',\n",
       " 'soc.religion.christian',\n",
       " 'talk.politics.guns',\n",
       " 'talk.politics.mideast',\n",
       " 'talk.politics.misc',\n",
       " 'talk.religion.misc']"
      ]
     },
     "execution_count": 24,
     "metadata": {},
     "output_type": "execute_result"
    }
   ],
   "source": [
    "news['target_names']"
   ]
  },
  {
   "cell_type": "code",
   "execution_count": 25,
   "metadata": {
    "collapsed": true
   },
   "outputs": [],
   "source": [
    "SVD = TruncatedSVD(200)\n",
    "latent_semantic_analysis = SVD.fit_transform(document_term_matrix)"
   ]
  },
  {
   "cell_type": "code",
   "execution_count": 26,
   "metadata": {
    "collapsed": false
   },
   "outputs": [
    {
     "data": {
      "text/plain": [
       "<Container object of 200 artists>"
      ]
     },
     "execution_count": 26,
     "metadata": {},
     "output_type": "execute_result"
    },
    {
     "data": {
      "image/png": "[encoded data removed]",
      "text/plain": [
       "<matplotlib.figure.Figure at 0x7f74afa4f208>"
      ]
     },
     "metadata": {},
     "output_type": "display_data"
    }
   ],
   "source": [
    "evr = SVD.explained_variance_ratio_\n",
    "x = list(range(len(evr)))\n",
    "plt.plot(x, np.cumsum(evr))\n",
    "plt.bar(x, evr)"
   ]
  },
  {
   "cell_type": "code",
   "execution_count": 28,
   "metadata": {
    "collapsed": true
   },
   "outputs": [],
   "source": [
    "news_df.to_pickle('news.p')"
   ]
  },
  {
   "cell_type": "code",
   "execution_count": 29,
   "metadata": {
    "collapsed": false
   },
   "outputs": [
    {
     "data": {
      "text/plain": [
       "scipy.sparse.csr.csr_matrix"
      ]
     },
     "execution_count": 29,
     "metadata": {},
     "output_type": "execute_result"
    }
   ],
   "source": [
    "type(document_term_matrix)"
   ]
  },
  {
   "cell_type": "code",
   "execution_count": 14,
   "metadata": {
    "collapsed": true
   },
   "outputs": [],
   "source": [
    "import scipy.sparse as sparse\n",
    "import scipy.io\n",
    "import numpy as np\n",
    "\n",
    "def save_sparse_matrix(filename, x):\n",
    "    x_coo = x.tocoo()\n",
    "    row = x_coo.row\n",
    "    col = x_coo.col\n",
    "    data = x_coo.data\n",
    "    shape = x_coo.shape\n",
    "    np.savez(filename, row=row, col=col, data=data, shape=shape)"
   ]
  },
  {
   "cell_type": "code",
   "execution_count": 15,
   "metadata": {
    "collapsed": true
   },
   "outputs": [],
   "source": [
    "save_sparse_matrix('dtm', document_term_matrix)"
   ]
  },
  {
   "cell_type": "code",
   "execution_count": 16,
   "metadata": {
    "collapsed": true
   },
   "outputs": [],
   "source": [
    "save_sparse_matrix('apollo', search_term_vec)"
   ]
  },
  {
   "cell_type": "code",
   "execution_count": 18,
   "metadata": {
    "collapsed": true
   },
   "outputs": [],
   "source": [
    "from sklearn.externals import joblib"
   ]
  },
  {
   "cell_type": "code",
   "execution_count": 19,
   "metadata": {
    "collapsed": false
   },
   "outputs": [
    {
     "data": {
      "text/plain": [
       "['tfidf_vectorizer']"
      ]
     },
     "execution_count": 19,
     "metadata": {},
     "output_type": "execute_result"
    }
   ],
   "source": [
    "joblib.dump(tfidf_vectorizer, 'tfidf_vectorizer')"
   ]
  },
  {
   "cell_type": "code",
   "execution_count": null,
   "metadata": {
    "collapsed": true
   },
   "outputs": [],
   "source": []
  }
 ],
 "metadata": {
  "kernelspec": {
   "display_name": "Python 3",
   "language": "python",
   "name": "python3"
  },
  "language_info": {
   "codemirror_mode": {
    "name": "ipython",
    "version": 3
   },
   "file_extension": ".py",
   "mimetype": "text/x-python",
   "name": "python",
   "nbconvert_exporter": "python",
   "pygments_lexer": "ipython3",
   "version": "3.6.0"
  }
 },
 "nbformat": 4,
 "nbformat_minor": 2
}
